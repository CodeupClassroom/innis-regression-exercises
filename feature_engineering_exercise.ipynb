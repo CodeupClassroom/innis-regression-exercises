{
 "cells": [
  {
   "cell_type": "markdown",
   "id": "ea750ace",
   "metadata": {},
   "source": [
    "# Feature Engineering Exercise"
   ]
  },
  {
   "cell_type": "markdown",
   "id": "dc0dcfc2",
   "metadata": {},
   "source": [
    "Note: for brevity, splitting and scaling is omitted. "
   ]
  },
  {
   "cell_type": "code",
   "execution_count": 1,
   "id": "f996a59e",
   "metadata": {},
   "outputs": [],
   "source": [
    "import pandas as pd\n",
    "import numpy as np\n",
    "import seaborn as sns\n",
    "import pydataset\n",
    "from sklearn.feature_selection import f_regression, SelectKBest, RFE\n",
    "from sklearn.linear_model import LinearRegression\n",
    "from sklearn.model_selection import train_test_split"
   ]
  },
  {
   "cell_type": "markdown",
   "id": "7144ebcc",
   "metadata": {},
   "source": [
    "## Tips Dataset"
   ]
  },
  {
   "cell_type": "code",
   "execution_count": 2,
   "id": "253424bc",
   "metadata": {},
   "outputs": [],
   "source": [
    "tips = pydataset.data('tips')\n",
    "tips['price_per_person'] = tips.total_bill / tips['size']\n",
    "\n",
    "X = tips[['size', 'total_bill', 'price_per_person']]\n",
    "y = tips.tip"
   ]
  },
  {
   "cell_type": "code",
   "execution_count": 3,
   "id": "4af7f1d4",
   "metadata": {},
   "outputs": [
    {
     "name": "stdout",
     "output_type": "stream",
     "text": [
      "Top 2 features according to k-best:\n"
     ]
    },
    {
     "data": {
      "text/plain": [
       "Index(['size', 'total_bill'], dtype='object')"
      ]
     },
     "execution_count": 3,
     "metadata": {},
     "output_type": "execute_result"
    }
   ],
   "source": [
    "kbest = SelectKBest(f_regression, k=2)\n",
    "kbest.fit(X, y)\n",
    "print('Top 2 features according to k-best:')\n",
    "X.columns[kbest.get_support()]"
   ]
  },
  {
   "cell_type": "code",
   "execution_count": 4,
   "id": "d60319de",
   "metadata": {},
   "outputs": [
    {
     "name": "stdout",
     "output_type": "stream",
     "text": [
      "Top 2 features according to RFE:\n"
     ]
    },
    {
     "data": {
      "text/plain": [
       "Index(['total_bill', 'price_per_person'], dtype='object')"
      ]
     },
     "execution_count": 4,
     "metadata": {},
     "output_type": "execute_result"
    }
   ],
   "source": [
    "model = LinearRegression()\n",
    "rfe = RFE(model, n_features_to_select=2).fit(X, y)\n",
    "print('Top 2 features according to RFE:')\n",
    "X.columns[rfe.get_support()]"
   ]
  },
  {
   "cell_type": "code",
   "execution_count": 5,
   "id": "fd5a5008",
   "metadata": {},
   "outputs": [],
   "source": [
    "def select_kbest(X, y, k):\n",
    "    kbest = SelectKBest(k=k)\n",
    "    kbest.fit(X, y)\n",
    "    mask = kbest.get_support()\n",
    "    return X.columns[mask]"
   ]
  },
  {
   "cell_type": "code",
   "execution_count": 6,
   "id": "deb22684",
   "metadata": {},
   "outputs": [
    {
     "data": {
      "text/plain": [
       "Index(['total_bill', 'size'], dtype='object')"
      ]
     },
     "execution_count": 6,
     "metadata": {},
     "output_type": "execute_result"
    }
   ],
   "source": [
    "select_kbest(tips[['total_bill', 'price_per_person', 'size']], tips.tip, 2)"
   ]
  },
  {
   "cell_type": "code",
   "execution_count": 7,
   "id": "f18ea6af",
   "metadata": {},
   "outputs": [
    {
     "data": {
      "text/plain": [
       "Index(['total_bill', 'price_per_person'], dtype='object')"
      ]
     },
     "execution_count": 7,
     "metadata": {},
     "output_type": "execute_result"
    }
   ],
   "source": [
    "def rfe(X, y, k, model=LinearRegression()):\n",
    "    rfe = RFE(model, n_features_to_select=k)\n",
    "    rfe.fit(X, y)\n",
    "    mask = rfe.get_support()\n",
    "    return X.columns[mask]\n",
    "\n",
    "rfe(tips[['total_bill', 'price_per_person', 'size']], tips.tip, 2)"
   ]
  },
  {
   "cell_type": "markdown",
   "id": "4d4c5bb2",
   "metadata": {},
   "source": [
    "## Swiss Dataset"
   ]
  },
  {
   "cell_type": "code",
   "execution_count": 8,
   "id": "40ce3c2e",
   "metadata": {},
   "outputs": [
    {
     "name": "stdout",
     "output_type": "stream",
     "text": [
      "train: 29 | validate: 8 | test: 10\n"
     ]
    }
   ],
   "source": [
    "swiss = pydataset.data('swiss')\n",
    "train_validate, test = train_test_split(swiss, random_state=123, test_size=.2)\n",
    "train, validate = train_test_split(train_validate, random_state=123, test_size=.2)\n",
    "\n",
    "print(f'train: {train.shape[0]} | validate: {validate.shape[0]} | test: {test.shape[0]}')"
   ]
  },
  {
   "cell_type": "code",
   "execution_count": 9,
   "id": "739a7b57",
   "metadata": {},
   "outputs": [],
   "source": [
    "X_train = train.drop(columns='Fertility')\n",
    "y_train = train.Fertility"
   ]
  },
  {
   "cell_type": "code",
   "execution_count": 10,
   "id": "f29f1e4d",
   "metadata": {},
   "outputs": [
    {
     "name": "stderr",
     "output_type": "stream",
     "text": [
      "/opt/homebrew/anaconda3/lib/python3.9/site-packages/sklearn/feature_selection/_univariate_selection.py:111: RuntimeWarning: invalid value encountered in true_divide\n",
      "  msw = sswn / float(dfwn)\n"
     ]
    },
    {
     "data": {
      "text/plain": [
       "Index(['Education', 'Catholic', 'Infant.Mortality'], dtype='object')"
      ]
     },
     "execution_count": 10,
     "metadata": {},
     "output_type": "execute_result"
    }
   ],
   "source": [
    "select_kbest(X_train, y_train, 3)"
   ]
  },
  {
   "cell_type": "code",
   "execution_count": 11,
   "id": "153ecbe2",
   "metadata": {},
   "outputs": [
    {
     "data": {
      "text/plain": [
       "Index(['Examination', 'Education', 'Infant.Mortality'], dtype='object')"
      ]
     },
     "execution_count": 11,
     "metadata": {},
     "output_type": "execute_result"
    }
   ],
   "source": [
    "rfe(X_train, y_train, 3)"
   ]
  },
  {
   "cell_type": "markdown",
   "id": "75446e7c",
   "metadata": {},
   "source": [
    "Taking it further and building some models:"
   ]
  },
  {
   "cell_type": "code",
   "execution_count": 12,
   "id": "62835cdf",
   "metadata": {},
   "outputs": [],
   "source": [
    "from sklearn.metrics import mean_squared_error"
   ]
  },
  {
   "cell_type": "code",
   "execution_count": 13,
   "id": "aef8fac6",
   "metadata": {},
   "outputs": [
    {
     "name": "stderr",
     "output_type": "stream",
     "text": [
      "/opt/homebrew/anaconda3/lib/python3.9/site-packages/sklearn/feature_selection/_univariate_selection.py:111: RuntimeWarning: invalid value encountered in true_divide\n",
      "  msw = sswn / float(dfwn)\n"
     ]
    },
    {
     "data": {
      "text/plain": [
       "112.94424700760267"
      ]
     },
     "execution_count": 13,
     "metadata": {},
     "output_type": "execute_result"
    }
   ],
   "source": [
    "kbest_cols = select_kbest(X_train, y_train, 3)\n",
    "X_train_kbest = X_train[kbest_cols]\n",
    "\n",
    "model_kbest = LinearRegression().fit(X_train_kbest, y_train)\n",
    "\n",
    "mean_squared_error(\n",
    "    validate.Fertility,\n",
    "    model_kbest.predict(validate[kbest_cols])\n",
    ")"
   ]
  },
  {
   "cell_type": "code",
   "execution_count": 14,
   "id": "c2bc575e",
   "metadata": {},
   "outputs": [
    {
     "data": {
      "text/plain": [
       "133.25818546856837"
      ]
     },
     "execution_count": 14,
     "metadata": {},
     "output_type": "execute_result"
    }
   ],
   "source": [
    "rfe_cols = rfe(X_train, y_train, 3)\n",
    "X_train_rfe = X_train[rfe_cols]\n",
    "\n",
    "model_rfe = LinearRegression().fit(X_train_rfe, y_train)\n",
    "\n",
    "mean_squared_error(\n",
    "    validate.Fertility,\n",
    "    model_rfe.predict(validate[rfe_cols])\n",
    ")"
   ]
  },
  {
   "cell_type": "markdown",
   "id": "c6d8a098",
   "metadata": {},
   "source": [
    "Evaluate on test"
   ]
  },
  {
   "cell_type": "code",
   "execution_count": 15,
   "id": "0347dcb8",
   "metadata": {},
   "outputs": [
    {
     "data": {
      "text/plain": [
       "94.63974916313865"
      ]
     },
     "execution_count": 15,
     "metadata": {},
     "output_type": "execute_result"
    }
   ],
   "source": [
    "mean_squared_error(\n",
    "    test.Fertility,\n",
    "    model_kbest.predict(test[kbest_cols])\n",
    ")"
   ]
  }
 ],
 "metadata": {
  "kernelspec": {
   "display_name": "Python 3 (ipykernel)",
   "language": "python",
   "name": "python3"
  },
  "language_info": {
   "codemirror_mode": {
    "name": "ipython",
    "version": 3
   },
   "file_extension": ".py",
   "mimetype": "text/x-python",
   "name": "python",
   "nbconvert_exporter": "python",
   "pygments_lexer": "ipython3",
   "version": "3.9.7"
  }
 },
 "nbformat": 4,
 "nbformat_minor": 5
}
