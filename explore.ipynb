{
 "cells": [
  {
   "cell_type": "markdown",
   "metadata": {},
   "source": [
    "# Exploration\n",
    "\n",
    "Let's explore the interactions of all attributes and target variable to help discover drivers of our target variable. \n",
    "\n",
    "> \"Exploratory Data Analysis refers to the critical process of performing initial investigations on data so as to discover patterns, to spot anomalies, to test hypotheses, and to check assumptions with the help of summary statistics and graphical representations.\" - Prasad Patil"
   ]
  },
  {
   "cell_type": "code",
   "execution_count": 1,
   "metadata": {},
   "outputs": [],
   "source": [
    "import warnings\n",
    "warnings.filterwarnings(\"ignore\")\n",
    "\n",
    "import pandas as pd\n",
    "import numpy as np\n",
    "\n",
    "import matplotlib.pyplot as plt\n",
    "import seaborn as sns\n",
    "\n",
    "from sklearn.model_selection import train_test_split\n",
    "from scipy.stats import pearsonr, spearmanr\n",
    "\n",
    "import env\n",
    "import wrangle"
   ]
  },
  {
   "cell_type": "markdown",
   "metadata": {},
   "source": [
    "## Acquire and Prepare Data\n",
    "\n",
    "We will use the function we created and stored in our wrangle file to quickly acquire and prepare our student grades data."
   ]
  },
  {
   "cell_type": "code",
   "execution_count": 2,
   "metadata": {},
   "outputs": [
    {
     "data": {
      "text/html": [
       "<div>\n",
       "<style scoped>\n",
       "    .dataframe tbody tr th:only-of-type {\n",
       "        vertical-align: middle;\n",
       "    }\n",
       "\n",
       "    .dataframe tbody tr th {\n",
       "        vertical-align: top;\n",
       "    }\n",
       "\n",
       "    .dataframe thead th {\n",
       "        text-align: right;\n",
       "    }\n",
       "</style>\n",
       "<table border=\"1\" class=\"dataframe\">\n",
       "  <thead>\n",
       "    <tr style=\"text-align: right;\">\n",
       "      <th></th>\n",
       "      <th>student_id</th>\n",
       "      <th>exam1</th>\n",
       "      <th>exam2</th>\n",
       "      <th>exam3</th>\n",
       "      <th>final_grade</th>\n",
       "    </tr>\n",
       "  </thead>\n",
       "  <tbody>\n",
       "    <tr>\n",
       "      <th>0</th>\n",
       "      <td>1</td>\n",
       "      <td>100</td>\n",
       "      <td>90</td>\n",
       "      <td>95</td>\n",
       "      <td>96</td>\n",
       "    </tr>\n",
       "    <tr>\n",
       "      <th>1</th>\n",
       "      <td>2</td>\n",
       "      <td>98</td>\n",
       "      <td>93</td>\n",
       "      <td>96</td>\n",
       "      <td>95</td>\n",
       "    </tr>\n",
       "    <tr>\n",
       "      <th>2</th>\n",
       "      <td>3</td>\n",
       "      <td>85</td>\n",
       "      <td>83</td>\n",
       "      <td>87</td>\n",
       "      <td>87</td>\n",
       "    </tr>\n",
       "    <tr>\n",
       "      <th>3</th>\n",
       "      <td>4</td>\n",
       "      <td>83</td>\n",
       "      <td>80</td>\n",
       "      <td>86</td>\n",
       "      <td>85</td>\n",
       "    </tr>\n",
       "    <tr>\n",
       "      <th>4</th>\n",
       "      <td>5</td>\n",
       "      <td>93</td>\n",
       "      <td>90</td>\n",
       "      <td>96</td>\n",
       "      <td>97</td>\n",
       "    </tr>\n",
       "  </tbody>\n",
       "</table>\n",
       "</div>"
      ],
      "text/plain": [
       "   student_id  exam1  exam2  exam3  final_grade\n",
       "0           1    100     90     95           96\n",
       "1           2     98     93     96           95\n",
       "2           3     85     83     87           87\n",
       "3           4     83     80     86           85\n",
       "4           5     93     90     96           97"
      ]
     },
     "execution_count": 2,
     "metadata": {},
     "output_type": "execute_result"
    }
   ],
   "source": [
    "# Use our function from wrangle to acquire and prepare our data.\n",
    "\n",
    "df = wrangle.wrangle_grades()\n",
    "df.head()"
   ]
  },
  {
   "cell_type": "code",
   "execution_count": 3,
   "metadata": {},
   "outputs": [
    {
     "name": "stdout",
     "output_type": "stream",
     "text": [
      "<class 'pandas.core.frame.DataFrame'>\n",
      "Int64Index: 102 entries, 0 to 103\n",
      "Data columns (total 5 columns):\n",
      " #   Column       Non-Null Count  Dtype\n",
      "---  ------       --------------  -----\n",
      " 0   student_id   102 non-null    int64\n",
      " 1   exam1        102 non-null    int64\n",
      " 2   exam2        102 non-null    int64\n",
      " 3   exam3        102 non-null    int64\n",
      " 4   final_grade  102 non-null    int64\n",
      "dtypes: int64(5)\n",
      "memory usage: 4.8 KB\n"
     ]
    }
   ],
   "source": [
    "df.info()"
   ]
  },
  {
   "cell_type": "code",
   "execution_count": 4,
   "metadata": {},
   "outputs": [
    {
     "data": {
      "text/plain": [
       "102"
      ]
     },
     "execution_count": 4,
     "metadata": {},
     "output_type": "execute_result"
    }
   ],
   "source": [
    "# No duplicate student_id values.\n",
    "\n",
    "df.student_id.nunique()"
   ]
  },
  {
   "cell_type": "code",
   "execution_count": null,
   "metadata": {},
   "outputs": [],
   "source": [
    "# three independent variables of value:\n",
    "# - exam1, exam2, exam3: all representative of continuous values\n",
    "# - target variable: y : final_grade, continuous, regression "
   ]
  },
  {
   "cell_type": "code",
   "execution_count": 5,
   "metadata": {},
   "outputs": [
    {
     "data": {
      "image/png": "[encoded data removed]",
      "text/plain": [
       "<Figure size 1152x216 with 4 Axes>"
      ]
     },
     "metadata": {
      "needs_background": "light"
     },
     "output_type": "display_data"
    }
   ],
   "source": [
    "plt.figure(figsize=(16, 3))\n",
    "\n",
    "# List of columns\n",
    "cols = ['exam1', 'exam2', 'exam3', 'final_grade']\n",
    "\n",
    "for i, col in enumerate(cols):\n",
    "    \n",
    "    # i starts at 0, but plot nos should start at 1\n",
    "    plot_number = i + 1\n",
    "    \n",
    "    # Create subplot.\n",
    "    # plt.subplot(row X col, where?)\n",
    "    plt.subplot(1,4,plot_number)\n",
    "    \n",
    "    # Title with column name.\n",
    "    plt.title(col)\n",
    "    \n",
    "    # Display histogram for column.\n",
    "    df[col].hist(bins=5)\n",
    "    \n",
    "    # Hide gridlines.\n",
    "    plt.grid(False)\n"
   ]
  },
  {
   "cell_type": "markdown",
   "metadata": {
    "tags": []
   },
   "source": [
    "#### Distribution Takeaways\n",
    "\n",
    "- All of the column distributions are bimodal. There seem to be more students scoring on the upper and lower edges than in the middle 80s.\n",
    "- `exam3` has the highest median score, `exam1` and `final_grade` look to have the same or very similar medians, and `exam2` has the lowest median score.\n",
    "- `exam2` has the least students scoring in the upper half of the grade range and the most scoring in the lower half.\n",
    "- `exam1` and `final_grade` distributions look very similar in these initial charts although `exam1` has a larger range in scores than `final_grade`."
   ]
  },
  {
   "cell_type": "markdown",
   "metadata": {},
   "source": [
    "___"
   ]
  },
  {
   "cell_type": "markdown",
   "metadata": {},
   "source": [
    "## Main Stages in Exploration\n",
    "\n",
    "Let's check out the main stages in performing Exploratory Data Analysis, EDA, and run through some guidance for each stage. \n",
    "\n",
    "> “A hypothesis may be simply defined as a guess. A scientific hypothesis is an intelligent guess.” – Isaac Asimov\n",
    "\n",
    "**Hypothesize:** Form and document your initial hypotheses about how the predictors (independent variables, features, or attributes) interact with the target (y-value or dependent variable).\n",
    "- Document your initial hypotheses. Write them down so they're concrete and not in your head."
   ]
  },
  {
   "cell_type": "markdown",
   "metadata": {},
   "source": [
    "**Visualize:** Use visualization techniques (scatterplot, jointplot, pairgrid, heatmap) to identify drivers. Sometimes a visualization is so powerful that it can suffice in identifying a driver all on its own. Other times, a visualization needs to be followed up with a statistical test. When in doubt, follow up with the appropriate test. \n",
    "- Plot out the distributions of each feature. *This is critical b/c many of our statisitical tools and machine learning algorithms assume certain distributions. If your data isn't remotely normally distributed, then avoid using any tools that assume normally distributed data.*\n",
    "- Plot out the interaction of 2 or more variables.\n",
    "- Plot out how subgroups compare to each-other and to the overall population.\n",
    "- Document any surprises you may find in visualizing. This means write down your takeaways; documenting your takeaways is a huge component of your final deliverable/analysis. \n",
    "- Identitfy features that correlate with each other. If feature A and feature B are each tightly correlated with the target variable, but they're also tightly correlated with each other, we should use one feature that correlates better, rather than use both. "
   ]
  },
  {
   "cell_type": "markdown",
   "metadata": {},
   "source": [
    "**Test Your Hypotheses:** Analyze the drivers of a continuous target variable using the appropriate statistical tests (t-tests, correlation, and chi-squared hypothesis tests).\n",
    "> \"Hypothesis generation is a process beginning with an educated guess whereas hypothesis testing is a process to conclude that the educated guess is true/false or the relationship between the variables is statistically significant or not.\" [source](https://www.analyticsvidhya.com/blog/2020/09/hypothesis-generation-data-science-projects/)\n",
    "- Document your hypothesis test results. That means writing up when the tests reject the null hypothesis or fail to reject your null hypothesis for each hypothesis you make."
   ]
  },
  {
   "cell_type": "markdown",
   "metadata": {},
   "source": [
    "___"
   ]
  },
  {
   "cell_type": "markdown",
   "metadata": {},
   "source": [
    "## Types of Visualizations\n",
    "\n",
    "Here is a breakdown of visualization by type with some code useful snippets. Below, let's use the appropriate visualizations on our student grades dataset."
   ]
  },
  {
   "cell_type": "markdown",
   "metadata": {},
   "source": [
    "- **Univariate Distributions**\n",
    "    - Check out the distributions of a single variable at a time using pandas built-in plotting function to create a historgram or Seaborn `displot`, `boxplot`, or `countplot`; this can be done before splitting our data if we want.\n",
    "    - **Continuous variable distributions**\n",
    "    ```python\n",
    "     df.[col].hist(grid=False, bins=10)\n",
    "     sns.displot(x, data)\n",
    "     sns.boxplot(data)\n",
    "     ```\n",
    "     - **Discrete variable distributions**\n",
    "     ```python\n",
    "     sns.countplot(x='discrete_var', data)\n",
    "     ```"
   ]
  },
  {
   "cell_type": "markdown",
   "metadata": {},
   "source": [
    "- **Continuous with Continuous**\n",
    "    - Seaborn `pairplot` to create a scatter matrix visualizing all continous variable relationships along with individiual distributions.\n",
    "    ```python\n",
    "    sns.pairplot(data)\n",
    "    ```\n",
    "    - Seaborn `relplot` for a simple scatter plot of two continuous variables.\n",
    "    ```python\n",
    "    sns.relplot(x, y, data, kind=scatter)\n",
    "    ```\n",
    "    - Seaborn `lmplot` for a simple scatter plot of two continous variables with a regression line. I can pass a discrete variable to `col` or `hue` to bring in another dimension, too.\n",
    "    ```python\n",
    "    sns.lmplot(x, y, data, scatter=True, hue=None, col=None)\n",
    "    ```\n",
    "    - Seaborn `jointplot` for a simple scatter plot of two continuous variables with a regression line and the addition of a histogram for each variable.\n",
    "    ```python\n",
    "    sns.jointplot(x, y, data, kind=scatter)\n",
    "    ```\n",
    "    - Seaborn `heatmap` of Correlation Coefficients for all numeric columns in a dataset.\n",
    "    ```python\n",
    "    sns.heatmap(train.corr())\n",
    "    ```"
   ]
  },
  {
   "cell_type": "markdown",
   "metadata": {},
   "source": [
    "- **Discrete with Continuous**\n",
    "    - Seaborn `swarmplot` or `stripplot` to examine a discrete variable by a continuous.\n",
    "    ```python\n",
    "    sns.swarmplot(x='discrete_var', y='continuous_var', data=train)\n",
    "    sns.stripplot(x='discrete_var', y='continuous_var', data=train)\n",
    "    ```\n",
    "    - Seaborn `boxplot`, `violinplot`, or `barplot` to show the distribution of a continuous variable by a discrete variable.\n",
    "    ```python\n",
    "    sns.boxplot(x='discrete_var', y='continuous_var', data=train)\n",
    "    sns.violinplot(x='discrete_var', y='continuous_var', data=train)\n",
    "    sns.barplot(x='discrete_var', y='continuous_var', data=train)\n",
    "    ```"
   ]
  },
  {
   "cell_type": "markdown",
   "metadata": {},
   "source": [
    "- **Discrete with Discrete**\n",
    "    - Seaborn `heatmap` with a pandas `crosstab` to examine discrete variables with discrete.\n",
    "    ```python\n",
    "    ctab = pd.crosstab(index, columns, values)\n",
    "    sns.heatmap(ctab, annot=True)\n",
    "    ```\n",
    "\n",
    "Let's take a look at some common chart types by variable types."
   ]
  },
  {
   "cell_type": "markdown",
   "metadata": {},
   "source": [
    "___"
   ]
  },
  {
   "cell_type": "markdown",
   "metadata": {},
   "source": [
    "### Split Data\n",
    "\n",
    "Before we explore bi- and multi-variate relationships, we *must* split our data to avoid leakage of unseen data."
   ]
  },
  {
   "cell_type": "code",
   "execution_count": 6,
   "metadata": {},
   "outputs": [
    {
     "name": "stdout",
     "output_type": "stream",
     "text": [
      "train -> (56, 5)\n",
      "validate -> (25, 5)\n",
      "test -> (21, 5)\n"
     ]
    }
   ],
   "source": [
    "# Split into train, validate, and test sets; notice that we are keeping X and Y together so far.\n",
    "\n",
    "train, validate, test = wrangle.split_continuous(df)"
   ]
  },
  {
   "cell_type": "markdown",
   "metadata": {},
   "source": [
    "___"
   ]
  },
  {
   "cell_type": "markdown",
   "metadata": {},
   "source": [
    "## Goal\n",
    "\n",
    "Let's keep our goal from our student grades scenario in mind here.\n",
    "> I'm a university professor hoping I can build a prediction model that will be able to use these exams to predict the final grade within 5 points average per student.\n",
    "\n",
    "Since my target variable is continuous, `final_grade`, this is a regression problem. It's important to remember that Multiple linear regression analysis makes several key assumptions:\n",
    "\n",
    "- There must be a linear relationship between the outcome variable and the independent variables.  *Scatterplots can show whether there is a linear or curvilinear relationship.*\n",
    "- No Multicollinearity—Multiple regression assumes that the independent variables are not highly correlated with each other.\n",
    "- Multivariate Normality–Multiple regression assumes that the residuals are normally distributed."
   ]
  },
  {
   "cell_type": "markdown",
   "metadata": {},
   "source": [
    "## Hypothesize\n",
    "\n",
    "- My Null Hypothesis is that there is no correlation between the grades for `exam1` and `final grade`.\n",
    "- My Alternative Hypothesis is that `exam1`is correlated with `final grade`."
   ]
  },
  {
   "cell_type": "markdown",
   "metadata": {},
   "source": [
    "## Visualize and Test\n",
    "\n",
    "- To test my hypothesis, I'm going to create some visualizations and test statistics with my student grades data.\n",
    "- At the same time, I'll be checking that the key assumptions for multiple linear regression are met."
   ]
  },
  {
   "cell_type": "markdown",
   "metadata": {},
   "source": [
    "___"
   ]
  },
  {
   "cell_type": "markdown",
   "metadata": {},
   "source": [
    "### `sns.heatmap()`\n",
    "\n",
    "Let's look at a heatmap of the correlation coefficients for a dataset. [Here](https://towardsdatascience.com/all-about-heatmaps-bb7d97f099d7 ) is an aritcle with lots of heatmap customization options.\n",
    "\n",
    "- First, I need to calculate the correlation coefficient for each pair of variables.\n",
    "- Pandas `.corr()` method allows me to quickly create a correlation matrix by computing pairwise correlation of columns. By default, `method=pearson`.\n",
    "- I can change the `.corr()` argument to `method=spearman` if my variables are not normally distributed. Want to know more about the difference between pearson's r and spearman's rank? [This article](https://towardsdatascience.com/clearly-explained-pearson-v-s-spearman-correlation-coefficient-ada2f473b8) is short, sweet, and to the point."
   ]
  },
  {
   "cell_type": "code",
   "execution_count": 11,
   "metadata": {},
   "outputs": [
    {
     "data": {
      "text/html": [
       "<div>\n",
       "<style scoped>\n",
       "    .dataframe tbody tr th:only-of-type {\n",
       "        vertical-align: middle;\n",
       "    }\n",
       "\n",
       "    .dataframe tbody tr th {\n",
       "        vertical-align: top;\n",
       "    }\n",
       "\n",
       "    .dataframe thead th {\n",
       "        text-align: right;\n",
       "    }\n",
       "</style>\n",
       "<table border=\"1\" class=\"dataframe\">\n",
       "  <thead>\n",
       "    <tr style=\"text-align: right;\">\n",
       "      <th></th>\n",
       "      <th>exam1</th>\n",
       "      <th>exam2</th>\n",
       "      <th>exam3</th>\n",
       "      <th>final_grade</th>\n",
       "    </tr>\n",
       "  </thead>\n",
       "  <tbody>\n",
       "    <tr>\n",
       "      <th>exam1</th>\n",
       "      <td>1.000000</td>\n",
       "      <td>0.940463</td>\n",
       "      <td>0.918660</td>\n",
       "      <td>0.987083</td>\n",
       "    </tr>\n",
       "    <tr>\n",
       "      <th>exam2</th>\n",
       "      <td>0.940463</td>\n",
       "      <td>1.000000</td>\n",
       "      <td>0.929203</td>\n",
       "      <td>0.910915</td>\n",
       "    </tr>\n",
       "    <tr>\n",
       "      <th>exam3</th>\n",
       "      <td>0.918660</td>\n",
       "      <td>0.929203</td>\n",
       "      <td>1.000000</td>\n",
       "      <td>0.930853</td>\n",
       "    </tr>\n",
       "    <tr>\n",
       "      <th>final_grade</th>\n",
       "      <td>0.987083</td>\n",
       "      <td>0.910915</td>\n",
       "      <td>0.930853</td>\n",
       "      <td>1.000000</td>\n",
       "    </tr>\n",
       "  </tbody>\n",
       "</table>\n",
       "</div>"
      ],
      "text/plain": [
       "                exam1     exam2     exam3  final_grade\n",
       "exam1        1.000000  0.940463  0.918660     0.987083\n",
       "exam2        0.940463  1.000000  0.929203     0.910915\n",
       "exam3        0.918660  0.929203  1.000000     0.930853\n",
       "final_grade  0.987083  0.910915  0.930853     1.000000"
      ]
     },
     "execution_count": 11,
     "metadata": {},
     "output_type": "execute_result"
    }
   ],
   "source": [
    "# Create the correlation matrix for all exams.\n",
    "\n",
    "exam_corr = train.drop(columns='student_id').corr(method='spearman')\n",
    "exam_corr"
   ]
  },
  {
   "cell_type": "markdown",
   "metadata": {},
   "source": [
    "- Next, I pass my correlation matrix to Seaborn's `heatmap` along with any customization I want to perform."
   ]
  },
  {
   "cell_type": "code",
   "execution_count": 12,
   "metadata": {},
   "outputs": [
    {
     "data": {
      "image/png": "[encoded data removed]",
      "text/plain": [
       "<Figure size 576x432 with 2 Axes>"
      ]
     },
     "metadata": {
      "needs_background": "light"
     },
     "output_type": "display_data"
    }
   ],
   "source": [
    "plt.figure(figsize=(8,6))\n",
    "sns.heatmap(exam_corr, cmap='Purples', annot=True, linewidth=0.5, mask= np.triu(exam_corr))\n",
    "plt.ylim(0, 4)\n",
    "\n",
    "plt.show()"
   ]
  },
  {
   "cell_type": "code",
   "execution_count": 14,
   "metadata": {},
   "outputs": [
    {
     "data": {
      "image/png": "[encoded data removed]",
      "text/plain": [
       "<Figure size 576x432 with 2 Axes>"
      ]
     },
     "metadata": {
      "needs_background": "light"
     },
     "output_type": "display_data"
    }
   ],
   "source": [
    "# Pass my correlation matrix to Seaborn's heatmap.\n",
    "\n",
    "kwargs = {'alpha':.9,'linewidth':3, 'linestyle':'-', \n",
    "          'linecolor':'k','rasterized':False, 'edgecolor':'w', \n",
    "          'capstyle':'projecting',}\n",
    "\n",
    "plt.figure(figsize=(8,6))\n",
    "sns.heatmap(exam_corr, cmap='Purples', annot=True, mask= np.triu(exam_corr), **kwargs)\n",
    "\n",
    "plt.show()"
   ]
  },
  {
   "cell_type": "code",
   "execution_count": 15,
   "metadata": {},
   "outputs": [
    {
     "name": "stdout",
     "output_type": "stream",
     "text": [
      "Correlation Coefficient by Pearson Test: 0.9860332649385699, p-value: 1.0065104366970078e-43\n",
      "We can reject the null hypothesis\n"
     ]
    }
   ],
   "source": [
    "# Use a scipy stats function pearsonr to calculate the correlation coefficient and the p-value.\n",
    "\n",
    "r, p_value = pearsonr(train.exam1, train.final_grade)\n",
    "print(f'Correlation Coefficient by Pearson Test: {r}, p-value: {p_value}')\n",
    "\n",
    "# set alpha : 0.05\n",
    "if p_value < 0.05:\n",
    "    print('We can reject the null hypothesis')\n",
    "else:\n",
    "    print('we cannot reject the null hypothesis')"
   ]
  },
  {
   "cell_type": "code",
   "execution_count": 17,
   "metadata": {},
   "outputs": [
    {
     "data": {
      "text/html": [
       "<div>\n",
       "<style scoped>\n",
       "    .dataframe tbody tr th:only-of-type {\n",
       "        vertical-align: middle;\n",
       "    }\n",
       "\n",
       "    .dataframe tbody tr th {\n",
       "        vertical-align: top;\n",
       "    }\n",
       "\n",
       "    .dataframe thead th {\n",
       "        text-align: right;\n",
       "    }\n",
       "</style>\n",
       "<table border=\"1\" class=\"dataframe\">\n",
       "  <thead>\n",
       "    <tr style=\"text-align: right;\">\n",
       "      <th></th>\n",
       "      <th>exam1</th>\n",
       "      <th>exam2</th>\n",
       "      <th>exam3</th>\n",
       "      <th>final_grade</th>\n",
       "    </tr>\n",
       "  </thead>\n",
       "  <tbody>\n",
       "    <tr>\n",
       "      <th>exam1</th>\n",
       "      <td>1.000000</td>\n",
       "      <td>0.940463</td>\n",
       "      <td>0.918660</td>\n",
       "      <td>0.987083</td>\n",
       "    </tr>\n",
       "    <tr>\n",
       "      <th>exam2</th>\n",
       "      <td>0.940463</td>\n",
       "      <td>1.000000</td>\n",
       "      <td>0.929203</td>\n",
       "      <td>0.910915</td>\n",
       "    </tr>\n",
       "    <tr>\n",
       "      <th>exam3</th>\n",
       "      <td>0.918660</td>\n",
       "      <td>0.929203</td>\n",
       "      <td>1.000000</td>\n",
       "      <td>0.930853</td>\n",
       "    </tr>\n",
       "    <tr>\n",
       "      <th>final_grade</th>\n",
       "      <td>0.987083</td>\n",
       "      <td>0.910915</td>\n",
       "      <td>0.930853</td>\n",
       "      <td>1.000000</td>\n",
       "    </tr>\n",
       "  </tbody>\n",
       "</table>\n",
       "</div>"
      ],
      "text/plain": [
       "                exam1     exam2     exam3  final_grade\n",
       "exam1        1.000000  0.940463  0.918660     0.987083\n",
       "exam2        0.940463  1.000000  0.929203     0.910915\n",
       "exam3        0.918660  0.929203  1.000000     0.930853\n",
       "final_grade  0.987083  0.910915  0.930853     1.000000"
      ]
     },
     "execution_count": 17,
     "metadata": {},
     "output_type": "execute_result"
    }
   ],
   "source": [
    "# Since my variables are not normally distributed, I might choose Spearman instead.\n",
    "\n",
    "exam_spearman = train.drop(columns=['student_id']).corr(method='spearman')\n",
    "exam_spearman"
   ]
  },
  {
   "cell_type": "markdown",
   "metadata": {},
   "source": [
    "- My numbers come out pretty close to the same here."
   ]
  },
  {
   "cell_type": "code",
   "execution_count": 19,
   "metadata": {},
   "outputs": [
    {
     "name": "stdout",
     "output_type": "stream",
     "text": [
      "Correlation Coefficient by Spearman Test: 0.9870830318356753, p-value: 1.2369246014330318e-44\n",
      "We can reject the null hypothesis\n"
     ]
    }
   ],
   "source": [
    "r, p_value = spearmanr(train.exam1, train.final_grade)\n",
    "print(f'Correlation Coefficient by Spearman Test: {r}, p-value: {p_value}')\n",
    "\n",
    "# set alpha : 0.05\n",
    "if p_value < 0.05:\n",
    "    print('We can reject the null hypothesis')\n",
    "else:\n",
    "    print('we cannot reject the null hypothesis')"
   ]
  },
  {
   "cell_type": "markdown",
   "metadata": {},
   "source": [
    "#### Heatmap Takeaways\n",
    "\n",
    "- Although all of the exams have very high positive correlations with the target variable, `exam1` and `final_grade` are almost perfectly correlated. This looks to be the best predictor of our target variable.\n",
    "- Based on my correlation coefficient and my p-value, **I reject my Null hypothesis that there is no correlation between `exam1` and `final_grade`.**\n",
    "- Looking at the correlation between our independent variables, they also have high positive correlations with each other, multicollinearity. This informs me that I don't want to use all of them together in a linear regression model. \n",
    "- I will choose `exam1` and perform a simple linear regression first. If I want to go back and do some feature engineering with my other independent variables, I could do that and see if I can improve on my accuracy."
   ]
  },
  {
   "cell_type": "markdown",
   "metadata": {},
   "source": [
    "### `sns.relplot()`\n",
    "\n",
    "Let's do a simple scatter plot of two continuous variables in our dataset."
   ]
  },
  {
   "cell_type": "code",
   "execution_count": 20,
   "metadata": {},
   "outputs": [
    {
     "data": {
      "image/png": "[encoded data removed]",
      "text/plain": [
       "<Figure size 360x360 with 1 Axes>"
      ]
     },
     "metadata": {
      "needs_background": "light"
     },
     "output_type": "display_data"
    }
   ],
   "source": [
    "sns.relplot(x='exam1', y='final_grade', data=train)\n",
    "plt.show()"
   ]
  },
  {
   "cell_type": "markdown",
   "metadata": {},
   "source": [
    "### `sns.lmplot()`\n",
    "\n",
    "Let's make that simple scatter plot but add a regression line."
   ]
  },
  {
   "cell_type": "code",
   "execution_count": 21,
   "metadata": {},
   "outputs": [
    {
     "data": {
      "image/png": "[encoded data removed]",
      "text/plain": [
       "<Figure size 360x360 with 1 Axes>"
      ]
     },
     "metadata": {
      "needs_background": "light"
     },
     "output_type": "display_data"
    }
   ],
   "source": [
    "# I can really pop that line color if I want.\n",
    "sns.lmplot(x='exam1', y='final_grade', data=train, line_kws={'color': 'red'})\n",
    "plt.show()"
   ]
  },
  {
   "cell_type": "markdown",
   "metadata": {},
   "source": [
    "### `sns.jointplot()`\n",
    "\n",
    "Let's use a `sns.jointplot()` with `kind=reg` to view individual variable distributions for our x and y along with a scatter plot with regression line."
   ]
  },
  {
   "cell_type": "code",
   "execution_count": 22,
   "metadata": {},
   "outputs": [
    {
     "data": {
      "image/png": "[encoded data removed]",
      "text/plain": [
       "<Figure size 432x432 with 3 Axes>"
      ]
     },
     "metadata": {
      "needs_background": "light"
     },
     "output_type": "display_data"
    }
   ],
   "source": [
    "sns.jointplot(x='exam1', y='final_grade', data=train, kind='reg')\n",
    "plt.show()"
   ]
  },
  {
   "cell_type": "markdown",
   "metadata": {},
   "source": [
    "#### Takeaways\n",
    "\n",
    "- My `relplot`, `lmplot`, and `joinplots` charts show me that there is a linear relationship between `exam1` and `final_grade`."
   ]
  },
  {
   "cell_type": "markdown",
   "metadata": {},
   "source": [
    "### `sns.pairplot()`\n",
    "\n",
    "Let's use `sns.pairplot()` to view a scatter plot visualizing the relationships between all of the numeric columns in our dataset all at once as well as individual distributions for each individual column."
   ]
  },
  {
   "cell_type": "code",
   "execution_count": 26,
   "metadata": {},
   "outputs": [],
   "source": [
    "# do we have a really large dataset? (long)\n",
    "# try this: sns.pairplot(train.sample(anumbersmallerthanwhatwehave))"
   ]
  },
  {
   "cell_type": "code",
   "execution_count": 30,
   "metadata": {},
   "outputs": [
    {
     "data": {
      "text/html": [
       "<div>\n",
       "<style scoped>\n",
       "    .dataframe tbody tr th:only-of-type {\n",
       "        vertical-align: middle;\n",
       "    }\n",
       "\n",
       "    .dataframe tbody tr th {\n",
       "        vertical-align: top;\n",
       "    }\n",
       "\n",
       "    .dataframe thead th {\n",
       "        text-align: right;\n",
       "    }\n",
       "</style>\n",
       "<table border=\"1\" class=\"dataframe\">\n",
       "  <thead>\n",
       "    <tr style=\"text-align: right;\">\n",
       "      <th></th>\n",
       "      <th>student_id</th>\n",
       "      <th>exam1</th>\n",
       "      <th>exam2</th>\n",
       "      <th>exam3</th>\n",
       "      <th>final_grade</th>\n",
       "    </tr>\n",
       "  </thead>\n",
       "  <tbody>\n",
       "    <tr>\n",
       "      <th>47</th>\n",
       "      <td>48</td>\n",
       "      <td>70</td>\n",
       "      <td>65</td>\n",
       "      <td>78</td>\n",
       "      <td>77</td>\n",
       "    </tr>\n",
       "    <tr>\n",
       "      <th>24</th>\n",
       "      <td>25</td>\n",
       "      <td>57</td>\n",
       "      <td>65</td>\n",
       "      <td>75</td>\n",
       "      <td>65</td>\n",
       "    </tr>\n",
       "    <tr>\n",
       "      <th>42</th>\n",
       "      <td>43</td>\n",
       "      <td>83</td>\n",
       "      <td>80</td>\n",
       "      <td>86</td>\n",
       "      <td>85</td>\n",
       "    </tr>\n",
       "    <tr>\n",
       "      <th>93</th>\n",
       "      <td>94</td>\n",
       "      <td>85</td>\n",
       "      <td>83</td>\n",
       "      <td>87</td>\n",
       "      <td>87</td>\n",
       "    </tr>\n",
       "    <tr>\n",
       "      <th>38</th>\n",
       "      <td>39</td>\n",
       "      <td>70</td>\n",
       "      <td>75</td>\n",
       "      <td>78</td>\n",
       "      <td>72</td>\n",
       "    </tr>\n",
       "    <tr>\n",
       "      <th>13</th>\n",
       "      <td>14</td>\n",
       "      <td>100</td>\n",
       "      <td>90</td>\n",
       "      <td>95</td>\n",
       "      <td>96</td>\n",
       "    </tr>\n",
       "    <tr>\n",
       "      <th>46</th>\n",
       "      <td>47</td>\n",
       "      <td>73</td>\n",
       "      <td>70</td>\n",
       "      <td>75</td>\n",
       "      <td>76</td>\n",
       "    </tr>\n",
       "    <tr>\n",
       "      <th>92</th>\n",
       "      <td>93</td>\n",
       "      <td>98</td>\n",
       "      <td>93</td>\n",
       "      <td>96</td>\n",
       "      <td>95</td>\n",
       "    </tr>\n",
       "    <tr>\n",
       "      <th>17</th>\n",
       "      <td>18</td>\n",
       "      <td>93</td>\n",
       "      <td>90</td>\n",
       "      <td>96</td>\n",
       "      <td>97</td>\n",
       "    </tr>\n",
       "    <tr>\n",
       "      <th>80</th>\n",
       "      <td>81</td>\n",
       "      <td>85</td>\n",
       "      <td>83</td>\n",
       "      <td>87</td>\n",
       "      <td>87</td>\n",
       "    </tr>\n",
       "    <tr>\n",
       "      <th>69</th>\n",
       "      <td>70</td>\n",
       "      <td>93</td>\n",
       "      <td>90</td>\n",
       "      <td>96</td>\n",
       "      <td>97</td>\n",
       "    </tr>\n",
       "    <tr>\n",
       "      <th>3</th>\n",
       "      <td>4</td>\n",
       "      <td>83</td>\n",
       "      <td>80</td>\n",
       "      <td>86</td>\n",
       "      <td>85</td>\n",
       "    </tr>\n",
       "    <tr>\n",
       "      <th>72</th>\n",
       "      <td>73</td>\n",
       "      <td>73</td>\n",
       "      <td>70</td>\n",
       "      <td>75</td>\n",
       "      <td>76</td>\n",
       "    </tr>\n",
       "    <tr>\n",
       "      <th>51</th>\n",
       "      <td>52</td>\n",
       "      <td>70</td>\n",
       "      <td>75</td>\n",
       "      <td>78</td>\n",
       "      <td>72</td>\n",
       "    </tr>\n",
       "    <tr>\n",
       "      <th>14</th>\n",
       "      <td>15</td>\n",
       "      <td>98</td>\n",
       "      <td>93</td>\n",
       "      <td>96</td>\n",
       "      <td>95</td>\n",
       "    </tr>\n",
       "    <tr>\n",
       "      <th>71</th>\n",
       "      <td>72</td>\n",
       "      <td>92</td>\n",
       "      <td>89</td>\n",
       "      <td>94</td>\n",
       "      <td>93</td>\n",
       "    </tr>\n",
       "    <tr>\n",
       "      <th>61</th>\n",
       "      <td>62</td>\n",
       "      <td>62</td>\n",
       "      <td>70</td>\n",
       "      <td>79</td>\n",
       "      <td>70</td>\n",
       "    </tr>\n",
       "    <tr>\n",
       "      <th>87</th>\n",
       "      <td>88</td>\n",
       "      <td>62</td>\n",
       "      <td>70</td>\n",
       "      <td>79</td>\n",
       "      <td>70</td>\n",
       "    </tr>\n",
       "    <tr>\n",
       "      <th>89</th>\n",
       "      <td>90</td>\n",
       "      <td>57</td>\n",
       "      <td>65</td>\n",
       "      <td>75</td>\n",
       "      <td>65</td>\n",
       "    </tr>\n",
       "    <tr>\n",
       "      <th>103</th>\n",
       "      <td>104</td>\n",
       "      <td>70</td>\n",
       "      <td>75</td>\n",
       "      <td>78</td>\n",
       "      <td>72</td>\n",
       "    </tr>\n",
       "    <tr>\n",
       "      <th>32</th>\n",
       "      <td>33</td>\n",
       "      <td>92</td>\n",
       "      <td>89</td>\n",
       "      <td>94</td>\n",
       "      <td>93</td>\n",
       "    </tr>\n",
       "    <tr>\n",
       "      <th>15</th>\n",
       "      <td>16</td>\n",
       "      <td>85</td>\n",
       "      <td>83</td>\n",
       "      <td>87</td>\n",
       "      <td>87</td>\n",
       "    </tr>\n",
       "    <tr>\n",
       "      <th>75</th>\n",
       "      <td>76</td>\n",
       "      <td>58</td>\n",
       "      <td>65</td>\n",
       "      <td>70</td>\n",
       "      <td>68</td>\n",
       "    </tr>\n",
       "    <tr>\n",
       "      <th>76</th>\n",
       "      <td>77</td>\n",
       "      <td>57</td>\n",
       "      <td>65</td>\n",
       "      <td>75</td>\n",
       "      <td>65</td>\n",
       "    </tr>\n",
       "    <tr>\n",
       "      <th>10</th>\n",
       "      <td>11</td>\n",
       "      <td>58</td>\n",
       "      <td>65</td>\n",
       "      <td>70</td>\n",
       "      <td>68</td>\n",
       "    </tr>\n",
       "  </tbody>\n",
       "</table>\n",
       "</div>"
      ],
      "text/plain": [
       "     student_id  exam1  exam2  exam3  final_grade\n",
       "47           48     70     65     78           77\n",
       "24           25     57     65     75           65\n",
       "42           43     83     80     86           85\n",
       "93           94     85     83     87           87\n",
       "38           39     70     75     78           72\n",
       "13           14    100     90     95           96\n",
       "46           47     73     70     75           76\n",
       "92           93     98     93     96           95\n",
       "17           18     93     90     96           97\n",
       "80           81     85     83     87           87\n",
       "69           70     93     90     96           97\n",
       "3             4     83     80     86           85\n",
       "72           73     73     70     75           76\n",
       "51           52     70     75     78           72\n",
       "14           15     98     93     96           95\n",
       "71           72     92     89     94           93\n",
       "61           62     62     70     79           70\n",
       "87           88     62     70     79           70\n",
       "89           90     57     65     75           65\n",
       "103         104     70     75     78           72\n",
       "32           33     92     89     94           93\n",
       "15           16     85     83     87           87\n",
       "75           76     58     65     70           68\n",
       "76           77     57     65     75           65\n",
       "10           11     58     65     70           68"
      ]
     },
     "execution_count": 30,
     "metadata": {},
     "output_type": "execute_result"
    }
   ],
   "source": [
    "train.sample(25)"
   ]
  },
  {
   "cell_type": "code",
   "execution_count": 25,
   "metadata": {},
   "outputs": [
    {
     "data": {
      "image/png": "[encoded data removed]",
      "text/plain": [
       "<Figure size 720x720 with 14 Axes>"
      ]
     },
     "metadata": {
      "needs_background": "light"
     },
     "output_type": "display_data"
    }
   ],
   "source": [
    "# We can drop the redundant information in the upper right half of the chart if we like.\n",
    "sns.pairplot(train.drop(columns='student_id'), corner=True)\n",
    "plt.savefig('somefile.png')\n"
   ]
  },
  {
   "cell_type": "markdown",
   "metadata": {},
   "source": [
    "## Additional thoughts\n",
    "- Identify if there are logical/domain/cultural cutoffs in continuous variables that would allow us to treat them as categorial values. For example, 98.45 and 99.1 are both an A or an A+ grade in most scales.\n",
    "- If there's a logical cutoff point, like a grade of 70 or a voting age of 18, we can make a boolean to go along with a continuous value. This can allow us to gain additional insight in visualizing distributions between groups."
   ]
  },
  {
   "cell_type": "code",
   "execution_count": 31,
   "metadata": {},
   "outputs": [
    {
     "name": "stdout",
     "output_type": "stream",
     "text": [
      "14 students failed exam1.\n",
      "13 students failed exam2.\n",
      "0 students failed exam3.\n",
      "10 students failed exam1 and exam2.\n",
      "10 students failed the final.\n"
     ]
    }
   ],
   "source": [
    "print(f'{(train.exam1 < 70).sum()} students failed exam1.')\n",
    "print(f'{(train.exam2 < 70).sum()} students failed exam2.')\n",
    "print(f'{(train.exam3 < 70).sum()} students failed exam3.')\n",
    "print(f'{((train.exam1 < 70) & (train.exam2 < 70)).sum()} students failed exam1 and exam2.')\n",
    "print(f'{(train.final_grade < 70).sum()} students failed the final.')"
   ]
  },
  {
   "cell_type": "code",
   "execution_count": 33,
   "metadata": {},
   "outputs": [],
   "source": [
    "failed_1 = train[train.exam1 < 70].student_id\n",
    "failed_2 = train[train.exam2 < 70].student_id\n",
    "failed_1_and_2 = train[(train.exam1 < 70) & (train.exam2 < 70)].student_id\n",
    "failed_1_or_2 = train[(train.exam1 < 70) | (train.exam2 < 70)].student_id\n",
    "failed_final = train[train.final_grade < 70].student_id"
   ]
  },
  {
   "cell_type": "code",
   "execution_count": 34,
   "metadata": {},
   "outputs": [
    {
     "data": {
      "text/plain": [
       "24     True\n",
       "101    True\n",
       "10     True\n",
       "75     True\n",
       "36     True\n",
       "89     True\n",
       "63     True\n",
       "76     True\n",
       "50     True\n",
       "49     True\n",
       "Name: student_id, dtype: bool"
      ]
     },
     "execution_count": 34,
     "metadata": {},
     "output_type": "execute_result"
    }
   ],
   "source": [
    "# What % of students who failed exams 1 and 2 failed the final.\n",
    "# 100%\n",
    "\n",
    "failed_1_and_2.isin(failed_final)"
   ]
  },
  {
   "cell_type": "code",
   "execution_count": 35,
   "metadata": {},
   "outputs": [
    {
     "name": "stdout",
     "output_type": "stream",
     "text": [
      "4 students failed exam1 but not exam2.\n"
     ]
    },
    {
     "data": {
      "text/plain": [
       "87    88\n",
       "61    62\n",
       "35    36\n",
       "74    75\n",
       "Name: student_id, dtype: int64"
      ]
     },
     "execution_count": 35,
     "metadata": {},
     "output_type": "execute_result"
    }
   ],
   "source": [
    "failed_1_not_2 = failed_1[~failed_1.isin(failed_2)]\n",
    "print(f'{len(failed_1_not_2)} students failed exam1 but not exam2.')\n",
    "failed_1_not_2"
   ]
  },
  {
   "cell_type": "code",
   "execution_count": 36,
   "metadata": {},
   "outputs": [
    {
     "name": "stdout",
     "output_type": "stream",
     "text": [
      "3 students failed exam2 but not exam1.\n"
     ]
    },
    {
     "data": {
      "text/plain": [
       "86     87\n",
       "99    100\n",
       "47     48\n",
       "Name: student_id, dtype: int64"
      ]
     },
     "execution_count": 36,
     "metadata": {},
     "output_type": "execute_result"
    }
   ],
   "source": [
    "failed_2_not_1 = failed_2[~failed_2.isin(failed_1)]\n",
    "print(f'{len(failed_2_not_1)} students failed exam2 but not exam1.')\n",
    "failed_2_not_1"
   ]
  },
  {
   "cell_type": "code",
   "execution_count": 37,
   "metadata": {},
   "outputs": [
    {
     "data": {
      "text/plain": [
       "pandas.core.series.Series"
      ]
     },
     "execution_count": 37,
     "metadata": {},
     "output_type": "execute_result"
    }
   ],
   "source": [
    "type(failed_2_not_1)"
   ]
  },
  {
   "cell_type": "code",
   "execution_count": 38,
   "metadata": {},
   "outputs": [],
   "source": [
    "# Students who only failed exam1 or exam2 passed the final.\n",
    "\n",
    "failed_1_or_2_df = train[((train.exam1 < 70) | (train.exam2 <70))]\n"
   ]
  },
  {
   "cell_type": "code",
   "execution_count": 45,
   "metadata": {},
   "outputs": [],
   "source": [
    "num_passed_but_failed_one = failed_1_or_2_df[failed_1_or_2_df.final_grade >= 70].shape[0]"
   ]
  },
  {
   "cell_type": "code",
   "execution_count": 46,
   "metadata": {},
   "outputs": [
    {
     "name": "stdout",
     "output_type": "stream",
     "text": [
      "We have 7 students that failed exam 1 or exam 2 but still passed the course\n"
     ]
    }
   ],
   "source": [
    "print(f'We have {num_passed_but_failed_one} students that failed exam 1 or exam 2 but still passed the course')"
   ]
  },
  {
   "cell_type": "markdown",
   "metadata": {},
   "source": [
    "#### Additional Thoughts Takeaways\n",
    "\n",
    "- I could create a new feature of boolean values to identify students who failed exam1 and exam2."
   ]
  },
  {
   "cell_type": "markdown",
   "metadata": {},
   "source": [
    "## Further Reading\n",
    "\n",
    "- [Visualization with Seaborn Demos](https://jakevdp.github.io/PythonDataScienceHandbook/04.14-visualization-with-seaborn.html)\n",
    "- <https://towardsdatascience.com/exploratory-data-analysis-8fc1cb20fd15>\n",
    "- <https://www.itl.nist.gov/div898/handbook/index.htm>\n",
    "- <https://adataanalyst.com/data-analysis-resources/visualise-categorical-variables-in-python/>\n",
    "- Boxplot vs. Violin example https://matplotlib.org/3.2.1/gallery/statistics/boxplot_vs_violin.html\n",
    "- https://datavizcatalogue.com/"
   ]
  },
  {
   "cell_type": "markdown",
   "metadata": {},
   "source": [
    "___"
   ]
  },
  {
   "cell_type": "markdown",
   "metadata": {},
   "source": [
    "## Exercises I - Required\n",
    "\n",
    "Our Telco scenario continues:\n",
    "\n",
    "As a customer analyst for Telco, you want to know who has spent the most money with the company over their lifetime. You have monthly charges and tenure, so you think you will be able to use those two attributes as features to estimate total charges. You need to do this within an average of $5.00 per customer. \n",
    "\n",
    "In these exercises, you will run through the stages of exploration as you continue to work toward the above goal.\n",
    "\n",
    "Do your work in a notebook named `explore.ipynb`. In addition, you should create a file named `explore.py` that contains the following functions for exploring your variables (features & target).\n",
    "\n",
    "1. Make sure to perform a train, validate, test split before and use only your train dataset to explore the relationships between independent variables with other independent variables or independent variables with your target variable.\n",
    "\n",
    "1. Write a function named `plot_variable_pairs` that accepts a dataframe as input and plots all of the pairwise relationships along with the regression line for each pair.\n",
    "\n",
    "1. Write a function named `months_to_years` that accepts your telco churn dataframe and returns a dataframe with a new feature `tenure_years`, in complete years as a customer.\n",
    "\n",
    "1. Write a function named `plot_categorical_and_continuous_vars` that accepts your dataframe and the name of the columns that hold the continuous and categorical features and outputs 3 different plots for visualizing a categorical variable and a continuous variable.\n",
    "\n",
    "1. Save the functions you have written to create visualizations in your `explore.py` file. Rewrite your notebook code so that you are using the functions imported from this file.\n",
    "\n",
    "1. Explore your dataset with any other visualizations you think will be helpful.\n",
    "\n",
    "1. In a seperate notebook, use the functions you have developed in this exercise with the `mall_customers` dataset in the Codeup database server. You will need to write a sql query to acquire your data. Make `spending_score` your target variable."
   ]
  },
  {
   "cell_type": "markdown",
   "metadata": {},
   "source": [
    "___"
   ]
  },
  {
   "cell_type": "markdown",
   "metadata": {},
   "source": [
    "## Exercises II - Challenge\n",
    "\n",
    "Our Zillow scenario continues:\n",
    "\n",
    "As a Codeup data science graduate, you want to show off your skills to the Zillow data science team in hopes of getting an interview for a position you saw pop up on LinkedIn. You thought it might look impressive to build an end-to-end project in which you use some of their Kaggle data to predict property values using some of their available features; who knows, you might even do some feature engineering to blow them away. Your goal is to predict the values of single unit properties using the observations from 2017.\n",
    "\n",
    "In these exercises, you will run through the stages of exploration as you continue to work toward the above goal.\n",
    "\n",
    "1. Use the functions you created above to explore your Zillow train dataset in your `explore.ipynb` notebook.\n",
    "\n",
    "1. Come up with some initial hypotheses based on your goal of predicting property value.\n",
    "\n",
    "1. Visualize all combinations of variables in some way.\n",
    "\n",
    "1. Run the appropriate statistical tests where needed.\n",
    "\n",
    "1. What independent variables are correlated with the dependent variable, home value?\n",
    "\n",
    "1. Which independent variables are correlated with other independent variables (bedrooms, bathrooms, year built, square feet)?\n",
    "\n",
    "1. Make sure to document your takeaways from visualizations and statistical tests as well as the decisions you make throughout your process."
   ]
  }
 ],
 "metadata": {
  "kernelspec": {
   "display_name": "Python 3",
   "language": "python",
   "name": "python3"
  },
  "language_info": {
   "codemirror_mode": {
    "name": "ipython",
    "version": 3
   },
   "file_extension": ".py",
   "mimetype": "text/x-python",
   "name": "python",
   "nbconvert_exporter": "python",
   "pygments_lexer": "ipython3",
   "version": "3.9.4"
  }
 },
 "nbformat": 4,
 "nbformat_minor": 4
}
