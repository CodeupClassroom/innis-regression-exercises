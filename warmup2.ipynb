{
 "cells": [
  {
   "cell_type": "code",
   "execution_count": 10,
   "id": "4f95fefb-13eb-4017-a1ba-ce979d1e0da0",
   "metadata": {},
   "outputs": [],
   "source": [
    "import pandas as pd\n",
    "\n",
    "df = pd.read_csv('https://raw.githubusercontent.com/zgulde/tidytuesday/master/data/2022/2022-02-01/breed_traits.csv')"
   ]
  },
  {
   "cell_type": "markdown",
   "id": "3b7041b1-1217-417f-b95b-19124d756e19",
   "metadata": {},
   "source": [
    "This dataset contains information on different dog breeds. Answer the following questions:"
   ]
  },
  {
   "cell_type": "code",
   "execution_count": 11,
   "id": "211168b8-3102-4215-9f6a-a87e98f51e61",
   "metadata": {},
   "outputs": [
    {
     "data": {
      "text/html": [
       "<div>\n",
       "<style scoped>\n",
       "    .dataframe tbody tr th:only-of-type {\n",
       "        vertical-align: middle;\n",
       "    }\n",
       "\n",
       "    .dataframe tbody tr th {\n",
       "        vertical-align: top;\n",
       "    }\n",
       "\n",
       "    .dataframe thead th {\n",
       "        text-align: right;\n",
       "    }\n",
       "</style>\n",
       "<table border=\"1\" class=\"dataframe\">\n",
       "  <thead>\n",
       "    <tr style=\"text-align: right;\">\n",
       "      <th></th>\n",
       "      <th>Breed</th>\n",
       "      <th>Affectionate With Family</th>\n",
       "      <th>Good With Young Children</th>\n",
       "      <th>Good With Other Dogs</th>\n",
       "      <th>Shedding Level</th>\n",
       "      <th>Coat Grooming Frequency</th>\n",
       "      <th>Drooling Level</th>\n",
       "      <th>Coat Type</th>\n",
       "      <th>Coat Length</th>\n",
       "      <th>Openness To Strangers</th>\n",
       "      <th>Playfulness Level</th>\n",
       "      <th>Watchdog/Protective Nature</th>\n",
       "      <th>Adaptability Level</th>\n",
       "      <th>Trainability Level</th>\n",
       "      <th>Energy Level</th>\n",
       "      <th>Barking Level</th>\n",
       "      <th>Mental Stimulation Needs</th>\n",
       "    </tr>\n",
       "  </thead>\n",
       "  <tbody>\n",
       "    <tr>\n",
       "      <th>0</th>\n",
       "      <td>Retrievers (Labrador)</td>\n",
       "      <td>5</td>\n",
       "      <td>5</td>\n",
       "      <td>5</td>\n",
       "      <td>4</td>\n",
       "      <td>2</td>\n",
       "      <td>2</td>\n",
       "      <td>Double</td>\n",
       "      <td>Short</td>\n",
       "      <td>5</td>\n",
       "      <td>5</td>\n",
       "      <td>3</td>\n",
       "      <td>5</td>\n",
       "      <td>5</td>\n",
       "      <td>5</td>\n",
       "      <td>3</td>\n",
       "      <td>4</td>\n",
       "    </tr>\n",
       "    <tr>\n",
       "      <th>1</th>\n",
       "      <td>French Bulldogs</td>\n",
       "      <td>5</td>\n",
       "      <td>5</td>\n",
       "      <td>4</td>\n",
       "      <td>3</td>\n",
       "      <td>1</td>\n",
       "      <td>3</td>\n",
       "      <td>Smooth</td>\n",
       "      <td>Short</td>\n",
       "      <td>5</td>\n",
       "      <td>5</td>\n",
       "      <td>3</td>\n",
       "      <td>5</td>\n",
       "      <td>4</td>\n",
       "      <td>3</td>\n",
       "      <td>1</td>\n",
       "      <td>3</td>\n",
       "    </tr>\n",
       "    <tr>\n",
       "      <th>2</th>\n",
       "      <td>German Shepherd Dogs</td>\n",
       "      <td>5</td>\n",
       "      <td>5</td>\n",
       "      <td>3</td>\n",
       "      <td>4</td>\n",
       "      <td>2</td>\n",
       "      <td>2</td>\n",
       "      <td>Double</td>\n",
       "      <td>Medium</td>\n",
       "      <td>3</td>\n",
       "      <td>4</td>\n",
       "      <td>5</td>\n",
       "      <td>5</td>\n",
       "      <td>5</td>\n",
       "      <td>5</td>\n",
       "      <td>3</td>\n",
       "      <td>5</td>\n",
       "    </tr>\n",
       "    <tr>\n",
       "      <th>3</th>\n",
       "      <td>Retrievers (Golden)</td>\n",
       "      <td>5</td>\n",
       "      <td>5</td>\n",
       "      <td>5</td>\n",
       "      <td>4</td>\n",
       "      <td>2</td>\n",
       "      <td>2</td>\n",
       "      <td>Double</td>\n",
       "      <td>Medium</td>\n",
       "      <td>5</td>\n",
       "      <td>4</td>\n",
       "      <td>3</td>\n",
       "      <td>5</td>\n",
       "      <td>5</td>\n",
       "      <td>3</td>\n",
       "      <td>1</td>\n",
       "      <td>4</td>\n",
       "    </tr>\n",
       "    <tr>\n",
       "      <th>4</th>\n",
       "      <td>Bulldogs</td>\n",
       "      <td>4</td>\n",
       "      <td>3</td>\n",
       "      <td>3</td>\n",
       "      <td>3</td>\n",
       "      <td>3</td>\n",
       "      <td>3</td>\n",
       "      <td>Smooth</td>\n",
       "      <td>Short</td>\n",
       "      <td>4</td>\n",
       "      <td>4</td>\n",
       "      <td>3</td>\n",
       "      <td>3</td>\n",
       "      <td>4</td>\n",
       "      <td>3</td>\n",
       "      <td>2</td>\n",
       "      <td>3</td>\n",
       "    </tr>\n",
       "  </tbody>\n",
       "</table>\n",
       "</div>"
      ],
      "text/plain": [
       "                   Breed  Affectionate With Family  Good With Young Children  \\\n",
       "0  Retrievers (Labrador)                         5                         5   \n",
       "1        French Bulldogs                         5                         5   \n",
       "2   German Shepherd Dogs                         5                         5   \n",
       "3    Retrievers (Golden)                         5                         5   \n",
       "4               Bulldogs                         4                         3   \n",
       "\n",
       "   Good With Other Dogs  Shedding Level  Coat Grooming Frequency  \\\n",
       "0                     5               4                        2   \n",
       "1                     4               3                        1   \n",
       "2                     3               4                        2   \n",
       "3                     5               4                        2   \n",
       "4                     3               3                        3   \n",
       "\n",
       "   Drooling Level Coat Type Coat Length  Openness To Strangers  \\\n",
       "0               2    Double       Short                      5   \n",
       "1               3    Smooth       Short                      5   \n",
       "2               2    Double      Medium                      3   \n",
       "3               2    Double      Medium                      5   \n",
       "4               3    Smooth       Short                      4   \n",
       "\n",
       "   Playfulness Level  Watchdog/Protective Nature  Adaptability Level  \\\n",
       "0                  5                           3                   5   \n",
       "1                  5                           3                   5   \n",
       "2                  4                           5                   5   \n",
       "3                  4                           3                   5   \n",
       "4                  4                           3                   3   \n",
       "\n",
       "   Trainability Level  Energy Level  Barking Level  Mental Stimulation Needs  \n",
       "0                   5             5              3                         4  \n",
       "1                   4             3              1                         3  \n",
       "2                   5             5              3                         5  \n",
       "3                   5             3              1                         4  \n",
       "4                   4             3              2                         3  "
      ]
     },
     "execution_count": 11,
     "metadata": {},
     "output_type": "execute_result"
    }
   ],
   "source": [
    "df.head()"
   ]
  },
  {
   "cell_type": "markdown",
   "id": "243425ab-f1b4-4fcf-a6d3-e0513584eca6",
   "metadata": {},
   "source": [
    "- How many breeds have an energy level of 5? `35`\n",
    "- How many different coat types are there? `10`"
   ]
  },
  {
   "cell_type": "code",
   "execution_count": 2,
   "id": "d3ac5283-a56b-4f79-b7a8-96e21be57e9c",
   "metadata": {},
   "outputs": [
    {
     "data": {
      "text/plain": [
       "35"
      ]
     },
     "execution_count": 2,
     "metadata": {},
     "output_type": "execute_result"
    }
   ],
   "source": [
    "(df['Energy Level'] == 5).sum()"
   ]
  },
  {
   "cell_type": "code",
   "execution_count": 3,
   "id": "268313ab-5ab1-44d2-a1ad-4565b3d222f2",
   "metadata": {},
   "outputs": [
    {
     "data": {
      "text/plain": [
       "10"
      ]
     },
     "execution_count": 3,
     "metadata": {},
     "output_type": "execute_result"
    }
   ],
   "source": [
    "df['Coat Type'].nunique()"
   ]
  },
  {
   "cell_type": "markdown",
   "id": "70287a3e-8dca-4adf-b8ed-ed94fbe24ad2",
   "metadata": {},
   "source": [
    "- What is the average drooling level of breeds with a long coat length? `1.483`\n",
    "- What is the barking level of Anatolian Shepherd Dogs? `3`"
   ]
  },
  {
   "cell_type": "code",
   "execution_count": 13,
   "id": "a1e87d1b-7c54-4fbc-8851-be3d303a0746",
   "metadata": {},
   "outputs": [
    {
     "data": {
      "text/plain": [
       "1.4827586206896552"
      ]
     },
     "execution_count": 13,
     "metadata": {},
     "output_type": "execute_result"
    }
   ],
   "source": [
    "df.loc[df['Coat Length'] == 'Long', 'Drooling Level'].mean()"
   ]
  },
  {
   "cell_type": "code",
   "execution_count": 16,
   "id": "a7c34926-aeb0-4bdc-8983-052865aeb06d",
   "metadata": {},
   "outputs": [
    {
     "data": {
      "text/plain": [
       "'Anatolian\\xa0Shepherd\\xa0Dogs'"
      ]
     },
     "execution_count": 16,
     "metadata": {},
     "output_type": "execute_result"
    }
   ],
   "source": [
    "df[df.Breed.str.startswith('Anatolian')].Breed.iloc[0]"
   ]
  },
  {
   "cell_type": "code",
   "execution_count": 5,
   "id": "aef0eb10-90d0-44ba-a076-181072e42129",
   "metadata": {},
   "outputs": [
    {
     "data": {
      "text/html": [
       "<div>\n",
       "<style scoped>\n",
       "    .dataframe tbody tr th:only-of-type {\n",
       "        vertical-align: middle;\n",
       "    }\n",
       "\n",
       "    .dataframe tbody tr th {\n",
       "        vertical-align: top;\n",
       "    }\n",
       "\n",
       "    .dataframe thead th {\n",
       "        text-align: right;\n",
       "    }\n",
       "</style>\n",
       "<table border=\"1\" class=\"dataframe\">\n",
       "  <thead>\n",
       "    <tr style=\"text-align: right;\">\n",
       "      <th></th>\n",
       "      <th>Breed</th>\n",
       "      <th>Barking Level</th>\n",
       "    </tr>\n",
       "  </thead>\n",
       "  <tbody>\n",
       "    <tr>\n",
       "      <th>84</th>\n",
       "      <td>Anatolian Shepherd Dogs</td>\n",
       "      <td>3</td>\n",
       "    </tr>\n",
       "  </tbody>\n",
       "</table>\n",
       "</div>"
      ],
      "text/plain": [
       "                      Breed  Barking Level\n",
       "84  Anatolian Shepherd Dogs              3"
      ]
     },
     "execution_count": 5,
     "metadata": {},
     "output_type": "execute_result"
    }
   ],
   "source": [
    "df.loc[df.Breed.str.startswith('Anatolian'), ['Breed', 'Barking Level']]"
   ]
  },
  {
   "cell_type": "markdown",
   "id": "2f9db0f1-bed1-4d06-bcb9-1c2d3989581b",
   "metadata": {},
   "source": [
    "- How many breeds have a smooth coat type, a short coat length, and a playfulness level of 3? `27`\n",
    "- What percentage of breeds fall into each value of adaptability level? Make a visualization like the one below showing this"
   ]
  },
  {
   "attachments": {
    "805baeb8-a81a-4f98-8aa5-7769c38791fb.png": {
     "image/png": "[encoded data removed]"
    }
   },
   "cell_type": "markdown",
   "id": "a2d017be-0f3f-4451-8f20-6aa2b4438520",
   "metadata": {},
   "source": [
    "![image.png](attachment:805baeb8-a81a-4f98-8aa5-7769c38791fb.png)"
   ]
  },
  {
   "cell_type": "code",
   "execution_count": 26,
   "id": "0b36a570-2d43-4a0c-bd5d-1511c31a66ac",
   "metadata": {},
   "outputs": [
    {
     "data": {
      "text/plain": [
       "27"
      ]
     },
     "execution_count": 26,
     "metadata": {},
     "output_type": "execute_result"
    }
   ],
   "source": [
    "subset = df[df['Coat Type'] == 'Smooth'].copy()\n",
    "subset = subset[subset['Coat Length'] == 'Short']\n",
    "subset = subset[subset['Playfulness Level'] == 3]\n",
    "subset.shape[0]"
   ]
  },
  {
   "cell_type": "code",
   "execution_count": 27,
   "id": "40a56368-8f6d-4d45-aaaf-8871c087ab45",
   "metadata": {},
   "outputs": [
    {
     "data": {
      "text/plain": [
       "0    0.005128\n",
       "1    0.138462\n",
       "2    0.210256\n",
       "3    0.558974\n",
       "4    0.082051\n",
       "5    0.005128\n",
       "Name: Shedding Level, dtype: float64"
      ]
     },
     "execution_count": 27,
     "metadata": {},
     "output_type": "execute_result"
    }
   ],
   "source": [
    "import matplotlib.pyplot as plt\n",
    "\n",
    "shedding_levels = df['Shedding Level'].value_counts().sort_index()\n",
    "shedding_levels / shedding_levels.sum()"
   ]
  },
  {
   "cell_type": "code",
   "execution_count": 7,
   "id": "ba2f8848-2d30-4d7c-8456-33e16107e69f",
   "metadata": {},
   "outputs": [
    {
     "data": {
      "image/png": "[encoded data removed]",
      "text/plain": [
       "<Figure size 700x300 with 1 Axes>"
      ]
     },
     "metadata": {},
     "output_type": "display_data"
    }
   ],
   "source": [
    "shedding_levels.plot.bar(\n",
    "    width=.9,\n",
    "    ec='black',\n",
    "    fc='white',\n",
    "    figsize=(7, 3),\n",
    "    title='Distribution of Shedding Levels',\n",
    "    ylabel='# of Breeds',\n",
    "    xlabel='Shedding Level',\n",
    ")\n",
    "plt.xticks(rotation=0)\n",
    "plt.show()"
   ]
  },
  {
   "cell_type": "code",
   "execution_count": 8,
   "id": "085b0ec7-f97a-40e3-8cb1-a35fe42b44ca",
   "metadata": {},
   "outputs": [
    {
     "data": {
      "text/plain": [
       "'Anatolian\\xa0Shepherd\\xa0Dogs'"
      ]
     },
     "execution_count": 8,
     "metadata": {},
     "output_type": "execute_result"
    }
   ],
   "source": [
    "df.loc[df.Breed.str.startswith('Anatolian'), 'Breed'].iloc[0]"
   ]
  },
  {
   "cell_type": "code",
   "execution_count": 9,
   "id": "16c4ab29-b8d8-43c2-a26d-0148cf2d74b0",
   "metadata": {},
   "outputs": [
    {
     "name": "stdout",
     "output_type": "stream",
     "text": [
      "1 2 3\n"
     ]
    }
   ],
   "source": [
    "print('1\\xa02 3')"
   ]
  }
 ],
 "metadata": {
  "kernelspec": {
   "display_name": "Python 3",
   "language": "python",
   "name": "python3"
  },
  "language_info": {
   "codemirror_mode": {
    "name": "ipython",
    "version": 3
   },
   "file_extension": ".py",
   "mimetype": "text/x-python",
   "name": "python",
   "nbconvert_exporter": "python",
   "pygments_lexer": "ipython3",
   "version": "3.8.8"
  }
 },
 "nbformat": 4,
 "nbformat_minor": 5
}
