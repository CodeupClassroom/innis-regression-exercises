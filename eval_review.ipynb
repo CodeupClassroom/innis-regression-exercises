{
 "cells": [
  {
   "cell_type": "code",
   "execution_count": 19,
   "id": "a5a3248b-bd48-4209-b82f-f6d39aef706a",
   "metadata": {},
   "outputs": [],
   "source": [
    "import numpy as np\n",
    "import pandas as pd\n",
    "import seaborn as sns\n",
    "import matplotlib.pyplot as plt\n",
    "\n",
    "import math\n",
    "\n",
    "from sklearn.linear_model import LinearRegression\n",
    "from sklearn.metrics import r2_score, mean_squared_error\n",
    "from sklearn.model_selection import train_test_split"
   ]
  },
  {
   "cell_type": "code",
   "execution_count": 20,
   "id": "7c1da595-8067-4174-a462-257277168ae5",
   "metadata": {},
   "outputs": [],
   "source": [
    "import warnings\n",
    "warnings.filterwarnings('ignore')"
   ]
  },
  {
   "cell_type": "code",
   "execution_count": 21,
   "id": "34202dac-06af-4ead-8b83-41c9dc360769",
   "metadata": {},
   "outputs": [],
   "source": [
    "from pydataset import data"
   ]
  },
  {
   "cell_type": "markdown",
   "id": "958ba8a7-f496-4e29-9fc8-d71242c02df2",
   "metadata": {},
   "source": [
    "1. Load the tips dataset from either pydataset or seaborn."
   ]
  },
  {
   "cell_type": "code",
   "execution_count": 22,
   "id": "97c006d3-2c58-4efa-b2eb-89408b47dfa8",
   "metadata": {},
   "outputs": [],
   "source": [
    "# grab our dataframe\n",
    "df = data('tips')"
   ]
  },
  {
   "cell_type": "code",
   "execution_count": 23,
   "id": "03910ad4-32ef-4221-aeca-1412296354ef",
   "metadata": {},
   "outputs": [
    {
     "data": {
      "text/html": [
       "<div>\n",
       "<style scoped>\n",
       "    .dataframe tbody tr th:only-of-type {\n",
       "        vertical-align: middle;\n",
       "    }\n",
       "\n",
       "    .dataframe tbody tr th {\n",
       "        vertical-align: top;\n",
       "    }\n",
       "\n",
       "    .dataframe thead th {\n",
       "        text-align: right;\n",
       "    }\n",
       "</style>\n",
       "<table border=\"1\" class=\"dataframe\">\n",
       "  <thead>\n",
       "    <tr style=\"text-align: right;\">\n",
       "      <th></th>\n",
       "      <th>total_bill</th>\n",
       "      <th>tip</th>\n",
       "      <th>sex</th>\n",
       "      <th>smoker</th>\n",
       "      <th>day</th>\n",
       "      <th>time</th>\n",
       "      <th>size</th>\n",
       "    </tr>\n",
       "  </thead>\n",
       "  <tbody>\n",
       "    <tr>\n",
       "      <th>1</th>\n",
       "      <td>16.99</td>\n",
       "      <td>1.01</td>\n",
       "      <td>Female</td>\n",
       "      <td>No</td>\n",
       "      <td>Sun</td>\n",
       "      <td>Dinner</td>\n",
       "      <td>2</td>\n",
       "    </tr>\n",
       "    <tr>\n",
       "      <th>2</th>\n",
       "      <td>10.34</td>\n",
       "      <td>1.66</td>\n",
       "      <td>Male</td>\n",
       "      <td>No</td>\n",
       "      <td>Sun</td>\n",
       "      <td>Dinner</td>\n",
       "      <td>3</td>\n",
       "    </tr>\n",
       "    <tr>\n",
       "      <th>3</th>\n",
       "      <td>21.01</td>\n",
       "      <td>3.50</td>\n",
       "      <td>Male</td>\n",
       "      <td>No</td>\n",
       "      <td>Sun</td>\n",
       "      <td>Dinner</td>\n",
       "      <td>3</td>\n",
       "    </tr>\n",
       "    <tr>\n",
       "      <th>4</th>\n",
       "      <td>23.68</td>\n",
       "      <td>3.31</td>\n",
       "      <td>Male</td>\n",
       "      <td>No</td>\n",
       "      <td>Sun</td>\n",
       "      <td>Dinner</td>\n",
       "      <td>2</td>\n",
       "    </tr>\n",
       "    <tr>\n",
       "      <th>5</th>\n",
       "      <td>24.59</td>\n",
       "      <td>3.61</td>\n",
       "      <td>Female</td>\n",
       "      <td>No</td>\n",
       "      <td>Sun</td>\n",
       "      <td>Dinner</td>\n",
       "      <td>4</td>\n",
       "    </tr>\n",
       "  </tbody>\n",
       "</table>\n",
       "</div>"
      ],
      "text/plain": [
       "   total_bill   tip     sex smoker  day    time  size\n",
       "1       16.99  1.01  Female     No  Sun  Dinner     2\n",
       "2       10.34  1.66    Male     No  Sun  Dinner     3\n",
       "3       21.01  3.50    Male     No  Sun  Dinner     3\n",
       "4       23.68  3.31    Male     No  Sun  Dinner     2\n",
       "5       24.59  3.61  Female     No  Sun  Dinner     4"
      ]
     },
     "execution_count": 23,
     "metadata": {},
     "output_type": "execute_result"
    }
   ],
   "source": [
    "df.head()"
   ]
  },
  {
   "cell_type": "code",
   "execution_count": 24,
   "id": "6f10a524-f745-4cf7-b25f-9fa1727da73b",
   "metadata": {},
   "outputs": [
    {
     "data": {
      "text/plain": [
       "(244, 7)"
      ]
     },
     "execution_count": 24,
     "metadata": {},
     "output_type": "execute_result"
    }
   ],
   "source": [
    "df.shape"
   ]
  },
  {
   "cell_type": "code",
   "execution_count": 25,
   "id": "3ba56248-8541-41d7-8b52-dddbe8ca9a68",
   "metadata": {},
   "outputs": [],
   "source": [
    "train_val, test = train_test_split(df, train_size=0.8, random_state=1349)\n",
    "train, val = train_test_split(train_val, train_size=0.7, random_state=1349)"
   ]
  },
  {
   "cell_type": "code",
   "execution_count": 26,
   "id": "f1675d43-8685-4ac5-9661-fa610e3ca320",
   "metadata": {},
   "outputs": [
    {
     "data": {
      "text/plain": [
       "((136, 7), (59, 7), (49, 7))"
      ]
     },
     "execution_count": 26,
     "metadata": {},
     "output_type": "execute_result"
    }
   ],
   "source": [
    "train.shape, val.shape, test.shape"
   ]
  },
  {
   "cell_type": "markdown",
   "id": "9d9abaac-769e-48cc-a545-0776defdc8ff",
   "metadata": {},
   "source": [
    "2. Fit a linear regression model (ordinary least squares) and compute yhat, predictions of tip using total_bill.\n",
    "\n",
    "Here is some sample code to get you started:\n",
    "\n",
    "from sklearn.linear_model import LinearRegression\n",
    "\n",
    "(assuming X and y are already defined)\n",
    " \n",
    "model = LinearRegression().fit(X, y)\n",
    "predictions = model.predict(X)\n",
    "\n",
    "Modify and add to the code above as necessary for it to work with the tips dataset."
   ]
  },
  {
   "cell_type": "code",
   "execution_count": 29,
   "id": "08862ddf-4a0a-47c3-9cc2-34f0f2c43014",
   "metadata": {},
   "outputs": [
    {
     "data": {
      "text/plain": [
       "Index(['total_bill', 'tip', 'sex', 'smoker', 'day', 'time', 'size'], dtype='object')"
      ]
     },
     "execution_count": 29,
     "metadata": {},
     "output_type": "execute_result"
    }
   ],
   "source": [
    "train.columns"
   ]
  },
  {
   "cell_type": "code",
   "execution_count": 28,
   "id": "a7f246c5-47df-4358-8fe6-a6c40348eaaa",
   "metadata": {},
   "outputs": [],
   "source": [
    "X_train, y_train = train.drop(columns='tip'), train[['tip']]"
   ]
  },
  {
   "cell_type": "code",
   "execution_count": 30,
   "id": "f44af52c-fe4e-4190-8654-d35cdc0c5b89",
   "metadata": {},
   "outputs": [],
   "source": [
    "# specific instruction: to use single independent variable total_bill as X"
   ]
  },
  {
   "cell_type": "code",
   "execution_count": 31,
   "id": "4a9f1469-2f01-41f8-bb78-7a3b8e3de3c8",
   "metadata": {},
   "outputs": [
    {
     "name": "stdout",
     "output_type": "stream",
     "text": [
      "<class 'pandas.core.frame.DataFrame'>\n",
      "Int64Index: 136 entries, 52 to 155\n",
      "Data columns (total 1 columns):\n",
      " #   Column      Non-Null Count  Dtype  \n",
      "---  ------      --------------  -----  \n",
      " 0   total_bill  136 non-null    float64\n",
      "dtypes: float64(1)\n",
      "memory usage: 6.2 KB\n"
     ]
    }
   ],
   "source": [
    "X_train[['total_bill']].info()"
   ]
  },
  {
   "cell_type": "code",
   "execution_count": 32,
   "id": "34a88e5f-6ec4-4dcd-a239-9584e82d3913",
   "metadata": {},
   "outputs": [],
   "source": [
    "# follow our sklearn object creation and training process:\n",
    "# make the thing\n",
    "lm = LinearRegression(normalize=True)\n",
    "# fit the thing\n",
    "lm.fit(X_train[['total_bill']],y_train.tip)\n",
    "# use the thing\n",
    "yhat = lm.predict(X_train[['total_bill']])\n"
   ]
  },
  {
   "cell_type": "code",
   "execution_count": 33,
   "id": "bd330b04-490b-448d-bdd5-8a5ddba9d34c",
   "metadata": {},
   "outputs": [
    {
     "data": {
      "text/plain": [
       "numpy.ndarray"
      ]
     },
     "execution_count": 33,
     "metadata": {},
     "output_type": "execute_result"
    }
   ],
   "source": [
    "type(yhat)"
   ]
  },
  {
   "cell_type": "markdown",
   "id": "d9e76931-294b-4699-a608-cd65c7dd6b57",
   "metadata": {},
   "source": [
    "3. Plot the residuals for the linear regression model that you made."
   ]
  },
  {
   "cell_type": "code",
   "execution_count": 35,
   "id": "67dcc96d-60e3-4bf3-8f32-64a6a933710c",
   "metadata": {},
   "outputs": [],
   "source": [
    "y_train['yhat'] = yhat\n",
    "y_train['lm_resid'] = y_train.tip - y_train.yhat"
   ]
  },
  {
   "cell_type": "code",
   "execution_count": 36,
   "id": "a750ab63-e32f-4f7c-835f-527e358f878c",
   "metadata": {},
   "outputs": [
    {
     "data": {
      "text/html": [
       "<div>\n",
       "<style scoped>\n",
       "    .dataframe tbody tr th:only-of-type {\n",
       "        vertical-align: middle;\n",
       "    }\n",
       "\n",
       "    .dataframe tbody tr th {\n",
       "        vertical-align: top;\n",
       "    }\n",
       "\n",
       "    .dataframe thead th {\n",
       "        text-align: right;\n",
       "    }\n",
       "</style>\n",
       "<table border=\"1\" class=\"dataframe\">\n",
       "  <thead>\n",
       "    <tr style=\"text-align: right;\">\n",
       "      <th></th>\n",
       "      <th>tip</th>\n",
       "      <th>yhat</th>\n",
       "      <th>lm_resid</th>\n",
       "    </tr>\n",
       "  </thead>\n",
       "  <tbody>\n",
       "    <tr>\n",
       "      <th>52</th>\n",
       "      <td>2.60</td>\n",
       "      <td>2.077028</td>\n",
       "      <td>0.522972</td>\n",
       "    </tr>\n",
       "    <tr>\n",
       "      <th>47</th>\n",
       "      <td>5.00</td>\n",
       "      <td>3.269021</td>\n",
       "      <td>1.730979</td>\n",
       "    </tr>\n",
       "    <tr>\n",
       "      <th>108</th>\n",
       "      <td>4.29</td>\n",
       "      <td>3.566520</td>\n",
       "      <td>0.723480</td>\n",
       "    </tr>\n",
       "    <tr>\n",
       "      <th>87</th>\n",
       "      <td>2.00</td>\n",
       "      <td>2.350567</td>\n",
       "      <td>-0.350567</td>\n",
       "    </tr>\n",
       "    <tr>\n",
       "      <th>59</th>\n",
       "      <td>1.76</td>\n",
       "      <td>2.171868</td>\n",
       "      <td>-0.411868</td>\n",
       "    </tr>\n",
       "  </tbody>\n",
       "</table>\n",
       "</div>"
      ],
      "text/plain": [
       "      tip      yhat  lm_resid\n",
       "52   2.60  2.077028  0.522972\n",
       "47   5.00  3.269021  1.730979\n",
       "108  4.29  3.566520  0.723480\n",
       "87   2.00  2.350567 -0.350567\n",
       "59   1.76  2.171868 -0.411868"
      ]
     },
     "execution_count": 36,
     "metadata": {},
     "output_type": "execute_result"
    }
   ],
   "source": [
    "y_train.head()"
   ]
  },
  {
   "cell_type": "code",
   "execution_count": 40,
   "id": "9b007bd6-c9aa-4982-856b-95b3ae2cde6d",
   "metadata": {},
   "outputs": [
    {
     "data": {
      "image/png": "[encoded data removed]",
      "text/plain": [
       "<Figure size 432x288 with 1 Axes>"
      ]
     },
     "metadata": {
      "needs_background": "light"
     },
     "output_type": "display_data"
    }
   ],
   "source": [
    "plt.scatter(y_train.tip, y_train.lm_resid)\n",
    "plt.axhline(0, ls=':')\n",
    "plt.show()"
   ]
  },
  {
   "cell_type": "markdown",
   "id": "610e7927-3dac-469a-85a2-9bd4304dafa2",
   "metadata": {},
   "source": [
    "4. Calculate the sum of squared errors, explained sum of squares, total sum of squares, mean squared error, and root mean squared error for your model."
   ]
  },
  {
   "cell_type": "markdown",
   "id": "ba08d0b6-d83f-4900-85ef-b1adc8c74a4a",
   "metadata": {},
   "source": [
    "5. Calculate the sum of squared errors, mean squared error, and root mean squared error for the baseline model (i.e. a model that always predicts the average tip amount)."
   ]
  },
  {
   "cell_type": "markdown",
   "id": "2a8b6b8c-4da3-45bf-ad57-f14406c89918",
   "metadata": {},
   "source": [
    "6. Write python code that compares the sum of squared errors for your model against the sum of squared errors for the baseline model and outputs whether or not your model performs better than the baseline model."
   ]
  },
  {
   "cell_type": "markdown",
   "id": "33d8b732-d2da-4254-8b22-6c1854dbbcc0",
   "metadata": {},
   "source": [
    "7. What is the amount of variance explained in your model?"
   ]
  },
  {
   "cell_type": "markdown",
   "id": "1206c5a6-3910-4bf2-bf94-1465b7db896f",
   "metadata": {},
   "source": [
    "8. Is your model better than the baseline model?"
   ]
  },
  {
   "cell_type": "code",
   "execution_count": 41,
   "id": "9b4148d7-6460-413f-8d80-244b977ffe79",
   "metadata": {},
   "outputs": [
    {
     "data": {
      "text/html": [
       "<div>\n",
       "<style scoped>\n",
       "    .dataframe tbody tr th:only-of-type {\n",
       "        vertical-align: middle;\n",
       "    }\n",
       "\n",
       "    .dataframe tbody tr th {\n",
       "        vertical-align: top;\n",
       "    }\n",
       "\n",
       "    .dataframe thead th {\n",
       "        text-align: right;\n",
       "    }\n",
       "</style>\n",
       "<table border=\"1\" class=\"dataframe\">\n",
       "  <thead>\n",
       "    <tr style=\"text-align: right;\">\n",
       "      <th></th>\n",
       "      <th>tip</th>\n",
       "      <th>yhat</th>\n",
       "      <th>lm_resid</th>\n",
       "    </tr>\n",
       "  </thead>\n",
       "  <tbody>\n",
       "    <tr>\n",
       "      <th>52</th>\n",
       "      <td>2.60</td>\n",
       "      <td>2.077028</td>\n",
       "      <td>0.522972</td>\n",
       "    </tr>\n",
       "    <tr>\n",
       "      <th>47</th>\n",
       "      <td>5.00</td>\n",
       "      <td>3.269021</td>\n",
       "      <td>1.730979</td>\n",
       "    </tr>\n",
       "    <tr>\n",
       "      <th>108</th>\n",
       "      <td>4.29</td>\n",
       "      <td>3.566520</td>\n",
       "      <td>0.723480</td>\n",
       "    </tr>\n",
       "    <tr>\n",
       "      <th>87</th>\n",
       "      <td>2.00</td>\n",
       "      <td>2.350567</td>\n",
       "      <td>-0.350567</td>\n",
       "    </tr>\n",
       "    <tr>\n",
       "      <th>59</th>\n",
       "      <td>1.76</td>\n",
       "      <td>2.171868</td>\n",
       "      <td>-0.411868</td>\n",
       "    </tr>\n",
       "  </tbody>\n",
       "</table>\n",
       "</div>"
      ],
      "text/plain": [
       "      tip      yhat  lm_resid\n",
       "52   2.60  2.077028  0.522972\n",
       "47   5.00  3.269021  1.730979\n",
       "108  4.29  3.566520  0.723480\n",
       "87   2.00  2.350567 -0.350567\n",
       "59   1.76  2.171868 -0.411868"
      ]
     },
     "execution_count": 41,
     "metadata": {},
     "output_type": "execute_result"
    }
   ],
   "source": [
    "y_train.head()"
   ]
  },
  {
   "cell_type": "code",
   "execution_count": 42,
   "id": "71316b39-e08a-4415-9347-a6b2f9cb7efb",
   "metadata": {},
   "outputs": [],
   "source": [
    "baseline_mean = y_train.tip.mean()\n",
    "baseline_median = y_train.tip.median()"
   ]
  },
  {
   "cell_type": "code",
   "execution_count": 43,
   "id": "64b29b3c-9bf4-4c96-8701-db0c80d7957b",
   "metadata": {},
   "outputs": [
    {
     "data": {
      "text/plain": [
       "(2.9930882352941177, 3.0)"
      ]
     },
     "execution_count": 43,
     "metadata": {},
     "output_type": "execute_result"
    }
   ],
   "source": [
    "baseline_mean, baseline_median"
   ]
  },
  {
   "cell_type": "code",
   "execution_count": 45,
   "id": "a3cadec9-66a5-4ba7-93d4-02d3ce89d58e",
   "metadata": {},
   "outputs": [],
   "source": [
    "y_train['baseline_mean'] = baseline_mean\n",
    "y_train['baseline_median'] = baseline_median"
   ]
  },
  {
   "cell_type": "code",
   "execution_count": 47,
   "id": "810ac93b-2bdf-4b97-addf-662959a3b35f",
   "metadata": {},
   "outputs": [],
   "source": [
    "rmse_mean = mean_squared_error(y_train.tip, y_train.baseline_mean, squared=False)"
   ]
  },
  {
   "cell_type": "code",
   "execution_count": 48,
   "id": "0bbe5a2d-9a66-4180-b2b5-2aefde93b116",
   "metadata": {},
   "outputs": [],
   "source": [
    "rmse_median = mean_squared_error(y_train.tip, y_train.baseline_median, squared=False)"
   ]
  },
  {
   "cell_type": "code",
   "execution_count": 49,
   "id": "7c15b61e-06e7-4782-8c08-1b1b47669d17",
   "metadata": {},
   "outputs": [
    {
     "data": {
      "text/plain": [
       "(1.3410605519435872, 1.3410783632847814)"
      ]
     },
     "execution_count": 49,
     "metadata": {},
     "output_type": "execute_result"
    }
   ],
   "source": [
    "rmse_mean, rmse_median"
   ]
  },
  {
   "cell_type": "code",
   "execution_count": 50,
   "id": "97e7e92f-68e2-4af8-96f8-f2ce15dbdb90",
   "metadata": {},
   "outputs": [],
   "source": [
    "# we select the lowest value to run with for our baseline\n",
    "# rmse_mean wins in this regard, this will be our baseline"
   ]
  },
  {
   "cell_type": "code",
   "execution_count": 52,
   "id": "2dc5dfd4-80d9-41e3-8cde-fc710f3b04fd",
   "metadata": {},
   "outputs": [],
   "source": [
    "rmse_lm1 = mean_squared_error(y_train.tip, y_train.yhat, squared=False)"
   ]
  },
  {
   "cell_type": "code",
   "execution_count": 53,
   "id": "7bc0b2ed-ba6b-4c14-b59d-9bc679e46e6f",
   "metadata": {
    "tags": []
   },
   "outputs": [
    {
     "data": {
      "text/plain": [
       "1.0172229554378807"
      ]
     },
     "execution_count": 53,
     "metadata": {},
     "output_type": "execute_result"
    }
   ],
   "source": [
    "rmse_lm1"
   ]
  },
  {
   "cell_type": "code",
   "execution_count": 54,
   "id": "85e6d901-8b49-4932-97d5-26fa319f2002",
   "metadata": {},
   "outputs": [
    {
     "name": "stdout",
     "output_type": "stream",
     "text": [
      "We have a lower root mean squared error on our first\n",
      " linear model compared to our baseline\n",
      " 1.3410605519435872 >= 1.0172229554378807\n"
     ]
    }
   ],
   "source": [
    "if rmse_lm1 < rmse_mean:\n",
    "    print(f'We have a lower root mean squared error on our first\\n linear model compared to our baseline\\n {rmse_mean} >= {rmse_lm1}')"
   ]
  },
  {
   "cell_type": "code",
   "execution_count": 56,
   "id": "a42fd29b-cfd5-4ad3-859b-6306d8882c30",
   "metadata": {},
   "outputs": [
    {
     "data": {
      "text/plain": [
       "0.4246454802078823"
      ]
     },
     "execution_count": 56,
     "metadata": {},
     "output_type": "execute_result"
    }
   ],
   "source": [
    "r2_score(y_train.tip, y_train.yhat)"
   ]
  },
  {
   "cell_type": "markdown",
   "id": "45be0f9b-f803-48c0-9bd6-45e68bcf7991",
   "metadata": {},
   "source": [
    "9. Create a file named evaluate.py that contains the following functions.\n",
    "\n",
    "    plot_residuals(y, yhat): creates a residual plot\n",
    "    regression_errors(y, yhat): returns the following values:\n",
    "        sum of squared errors (SSE)\n",
    "        explained sum of squares (ESS)\n",
    "        total sum of squares (TSS)\n",
    "        mean squared error (MSE)\n",
    "        root mean squared error (RMSE)\n",
    "    baseline_mean_errors(y): computes the SSE, MSE, and RMSE for the baseline model\n",
    "    better_than_baseline(y, yhat): returns true if your model performs better than the baseline, otherwise false"
   ]
  },
  {
   "attachments": {
    "regression-5.png": {
     "image/png": "[encoded data removed]"
    }
   },
   "cell_type": "markdown",
   "id": "79570801-1e4f-42fd-94bc-faab6a9593b5",
   "metadata": {},
   "source": [
    "![regression-5.png](attachment:regression-5.png)"
   ]
  },
  {
   "cell_type": "code",
   "execution_count": 57,
   "id": "db4ff09e-03e4-4061-bcff-f9dca0a7931c",
   "metadata": {
    "tags": []
   },
   "outputs": [],
   "source": [
    "def residuals(actual, predicted):\n",
    "    '''\n",
    "    ∆(y,yhat)\n",
    "    '''\n",
    "    return actual - predicted\n",
    "\n",
    "def sse(actual, predicted):\n",
    "    '''\n",
    "    sum of squared error\n",
    "    '''\n",
    "    return (residuals(actual, predicted) ** 2).sum()\n",
    "\n",
    "def mse(actual, predicted):\n",
    "    '''\n",
    "    mean squared error\n",
    "    '''\n",
    "    n = actual.shape[0]\n",
    "    return sse(actual, predicted) / n\n",
    "\n",
    "def rmse(actual, predicted):\n",
    "    '''\n",
    "    root mean squared error\n",
    "    '''\n",
    "    return math.sqrt(mse(actual, predicted))\n",
    "\n",
    "def ess(actual, predicted):\n",
    "    '''\n",
    "    explained sum of squared error\n",
    "    '''\n",
    "    return ((predicted - actual.mean()) ** 2).sum()\n",
    "\n",
    "def tss(actual):\n",
    "    '''\n",
    "    total sum of squared error\n",
    "    '''\n",
    "    return ((actual - actual.mean()) ** 2).sum()\n",
    "\n",
    "def r2_score(actual, predicted):\n",
    "    '''\n",
    "    explained variance\n",
    "    '''\n",
    "    return ess(actual, predicted) / tss(actual)"
   ]
  },
  {
   "cell_type": "code",
   "execution_count": 58,
   "id": "ece85c1e-23dc-4d7a-a64a-c5f94861bf00",
   "metadata": {
    "tags": []
   },
   "outputs": [],
   "source": [
    "def plot_residuals(actual, predicted):\n",
    "    residuals = actual - predicted\n",
    "    plt.hlines(0, actual.min(), actual.max(), ls=':')\n",
    "    plt.scatter(actual, residuals)\n",
    "    plt.ylabel('residual ($y - \\hat{y}$)')\n",
    "    plt.xlabel('actual value ($y$)')\n",
    "    plt.title('Actual vs Residual')\n",
    "    return plt.gca()\n",
    "\n",
    "def regression_errors(actual, predicted):\n",
    "    return pd.Series({\n",
    "        'sse': sse(actual, predicted),\n",
    "        'ess': ess(actual, predicted),\n",
    "        'tss': tss(actual),\n",
    "        'mse': mse(actual, predicted),\n",
    "        'rmse': rmse(actual, predicted),\n",
    "        'r2': r2_score(actual, predicted),\n",
    "    })\n",
    "\n",
    "def baseline_mean_errors(actual):\n",
    "    predicted = actual.mean()\n",
    "    return {\n",
    "        'sse': sse(actual, predicted),\n",
    "        'mse': mse(actual, predicted),\n",
    "        'rmse': rmse(actual, predicted),\n",
    "    }\n",
    "\n",
    "def better_than_baseline(actual, predicted):\n",
    "    sse_baseline = sse(actual, actual.mean())\n",
    "    sse_model = sse(actual, predicted)\n",
    "    return sse_model < sse_baseline"
   ]
  },
  {
   "cell_type": "code",
   "execution_count": 59,
   "id": "0628c033-e4ee-45b8-af32-0b2e7172da97",
   "metadata": {},
   "outputs": [
    {
     "data": {
      "text/plain": [
       "sse     140.724986\n",
       "ess     103.863317\n",
       "tss     244.588303\n",
       "mse       1.034743\n",
       "rmse      1.017223\n",
       "r2        0.424645\n",
       "dtype: float64"
      ]
     },
     "execution_count": 59,
     "metadata": {},
     "output_type": "execute_result"
    }
   ],
   "source": [
    "regression_errors(y_train.tip, y_train.yhat)"
   ]
  },
  {
   "cell_type": "code",
   "execution_count": 60,
   "id": "684cc3e1-bece-4575-bf2f-96b3c36078b5",
   "metadata": {},
   "outputs": [
    {
     "data": {
      "text/plain": [
       "True"
      ]
     },
     "execution_count": 60,
     "metadata": {},
     "output_type": "execute_result"
    }
   ],
   "source": [
    "better_than_baseline(y_train.tip, y_train.yhat)"
   ]
  },
  {
   "cell_type": "markdown",
   "id": "78b7d54d-5388-43b9-b358-4aa9b3c10095",
   "metadata": {},
   "source": [
    "10. Load the mpg dataset and fit a model that predicts highway mileage based on engine displacement. Take a look at all the regression evaluation metrics, and determine whether this model is better than the baseline model. Use the functions from your evaluate.py to help accomplish this."
   ]
  },
  {
   "cell_type": "markdown",
   "id": "66fccdda-097d-4eb8-ad36-c931772defc8",
   "metadata": {},
   "source": [
    "### mpg"
   ]
  },
  {
   "cell_type": "code",
   "execution_count": 62,
   "id": "9f5a5979-5b12-45b1-be62-75a69f6aabe6",
   "metadata": {},
   "outputs": [],
   "source": [
    "# grab mpg from pydataset\n",
    "mpg = data('mpg')"
   ]
  },
  {
   "cell_type": "code",
   "execution_count": 63,
   "id": "63719ed8-aac6-4d30-935c-56fa9598c61e",
   "metadata": {},
   "outputs": [],
   "source": [
    "# chain create the thing then fit the thing\n",
    "# specify x as displacement, y as highway milage\n",
    "model = LinearRegression().fit(mpg[['displ']], mpg.hwy)"
   ]
  },
  {
   "cell_type": "code",
   "execution_count": 64,
   "id": "e72bf0eb-2526-4b40-a1c2-c5f0407af37d",
   "metadata": {},
   "outputs": [],
   "source": [
    "actual = mpg.hwy # y\n",
    "predicted = model.predict(mpg[['displ']]) # yhat"
   ]
  },
  {
   "cell_type": "code",
   "execution_count": 65,
   "id": "3f201691-41a8-4c33-a26c-c541cd480684",
   "metadata": {},
   "outputs": [
    {
     "data": {
      "text/plain": [
       "sse     3413.829009\n",
       "ess     4847.833384\n",
       "tss     8261.662393\n",
       "mse       14.589013\n",
       "rmse       3.819557\n",
       "r2         0.586787\n",
       "dtype: float64"
      ]
     },
     "execution_count": 65,
     "metadata": {},
     "output_type": "execute_result"
    }
   ],
   "source": [
    "regression_errors(actual, predicted)"
   ]
  },
  {
   "cell_type": "code",
   "execution_count": 66,
   "id": "ecdba14a-8476-425f-b0f2-ffb1270ce129",
   "metadata": {},
   "outputs": [
    {
     "data": {
      "text/plain": [
       "True"
      ]
     },
     "execution_count": 66,
     "metadata": {},
     "output_type": "execute_result"
    }
   ],
   "source": [
    "better_than_baseline(actual, predicted)"
   ]
  },
  {
   "cell_type": "code",
   "execution_count": 67,
   "id": "ab50271a-ab01-44d6-b80f-0b42d2b05e6e",
   "metadata": {},
   "outputs": [
    {
     "data": {
      "text/plain": [
       "<matplotlib.collections.PathCollection at 0x7ffaf0921dc0>"
      ]
     },
     "execution_count": 67,
     "metadata": {},
     "output_type": "execute_result"
    },
    {
     "data": {
      "image/png": "[encoded data removed]",
      "text/plain": [
       "<Figure size 864x504 with 1 Axes>"
      ]
     },
     "metadata": {
      "needs_background": "light"
     },
     "output_type": "display_data"
    }
   ],
   "source": [
    "fig, ax = plt.subplots(figsize=(12, 7))\n",
    "ax.scatter(mpg.displ, mpg.hwy, label='actual')\n",
    "ax.scatter(mpg.displ, predicted, label='prediction')"
   ]
  },
  {
   "cell_type": "markdown",
   "id": "a2d03a51-1ae4-4386-83f7-52e6dcdf962c",
   "metadata": {},
   "source": [
    "Sidenote: visualizing residuals w/ multiple independent variables"
   ]
  },
  {
   "cell_type": "code",
   "execution_count": 68,
   "id": "4d101c1b-6caf-4170-8ad0-dd0b4742df2e",
   "metadata": {},
   "outputs": [
    {
     "data": {
      "text/plain": [
       "<matplotlib.collections.PathCollection at 0x7ffb146c6850>"
      ]
     },
     "execution_count": 68,
     "metadata": {},
     "output_type": "execute_result"
    },
    {
     "data": {
      "image/png": "[encoded data removed]",
      "text/plain": [
       "<Figure size 432x288 with 1 Axes>"
      ]
     },
     "metadata": {
      "needs_background": "light"
     },
     "output_type": "display_data"
    }
   ],
   "source": [
    "plt.scatter(mpg.hwy, actual - predicted)"
   ]
  },
  {
   "cell_type": "code",
   "execution_count": 70,
   "id": "0a901fab-d736-4e38-a3f4-26c656b32552",
   "metadata": {},
   "outputs": [
    {
     "data": {
      "image/png": "[encoded data removed]",
      "text/plain": [
       "<Figure size 432x288 with 1 Axes>"
      ]
     },
     "metadata": {
      "needs_background": "light"
     },
     "output_type": "display_data"
    }
   ],
   "source": [
    "plt.hist(actual - predicted, bins=15)\n",
    "plt.show()"
   ]
  },
  {
   "cell_type": "code",
   "execution_count": null,
   "id": "17e6b6e6-5a3a-450b-8e19-e9c48472362d",
   "metadata": {},
   "outputs": [],
   "source": [
    "# takeaways:\n",
    "# we have some trend of error and a fair but not excellent r^2\n",
    "# vaguely normal but tailed distribution of residuals\n",
    "# next steps:\n",
    "# investigate what could correlate with engine displacement\n",
    "# investigate usage of other features\n",
    "# investigate combination of displacement with any other independent feature\n",
    "# do we need separate models for a differnt class of vehicle"
   ]
  },
  {
   "cell_type": "code",
   "execution_count": null,
   "id": "e8932a3b-de8e-4851-b5cc-d9d38dea1915",
   "metadata": {},
   "outputs": [],
   "source": []
  },
  {
   "cell_type": "code",
   "execution_count": null,
   "id": "4c4b82a7-cfb5-4e37-a396-1ec5e29f8f12",
   "metadata": {},
   "outputs": [],
   "source": []
  }
 ],
 "metadata": {
  "kernelspec": {
   "display_name": "Python 3",
   "language": "python",
   "name": "python3"
  },
  "language_info": {
   "codemirror_mode": {
    "name": "ipython",
    "version": 3
   },
   "file_extension": ".py",
   "mimetype": "text/x-python",
   "name": "python",
   "nbconvert_exporter": "python",
   "pygments_lexer": "ipython3",
   "version": "3.9.4"
  }
 },
 "nbformat": 4,
 "nbformat_minor": 5
}
